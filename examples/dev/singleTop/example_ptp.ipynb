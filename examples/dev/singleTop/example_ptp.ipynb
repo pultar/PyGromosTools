{
 "cells": [
  {
   "cell_type": "code",
   "execution_count": 1,
   "metadata": {
    "pycharm": {
     "is_executing": true
    }
   },
   "outputs": [],
   "source": [
    "from pygromos.files.topology import top\n",
    "from pygromos.files.topology import ptp\n",
    "from pygromos.files.coord import cnf\n",
    "\n",
    "import copy\n",
    "import numpy as np\n",
    "\n",
    "from rdkit import Chem\n"
   ]
  },
  {
   "cell_type": "code",
   "execution_count": 2,
   "metadata": {
    "pycharm": {
     "is_executing": true,
     "name": "#%%\n"
    }
   },
   "outputs": [],
   "source": [
    "in_top1_path = \"F313.top\"\n",
    "in_top2_path = \"G078.top\"\n",
    "out_ptp_path = \"test.ptp\"\n",
    "\n",
    "in_coord2_path = \"G078_unitedatom_optimised_geometry.g96\"\n",
    "in_coord1_path = \"F313_unitedatom_optimised_geometry.g96\""
   ]
  },
  {
   "cell_type": "code",
   "execution_count": 3,
   "metadata": {
    "pycharm": {
     "name": "#%%\n"
    }
   },
   "outputs": [],
   "source": [
    "def generate_dual_topology_approach( eds:bool=False):\n",
    "    pass"
   ]
  },
  {
   "cell_type": "code",
   "execution_count": 4,
   "metadata": {
    "pycharm": {
     "name": "#%%\n"
    }
   },
   "outputs": [],
   "source": [
    "def generate_hybrid_topology_approach():\n",
    "    pass"
   ]
  },
  {
   "cell_type": "code",
   "execution_count": 5,
   "metadata": {
    "pycharm": {
     "name": "#%%\n"
    }
   },
   "outputs": [],
   "source": [
    "atom_ids = {}\n",
    "\n",
    "def generate_single_topology_approach(topology:top.Top, atom_mapping:dict):\n",
    "\n",
    "\n",
    "    pass"
   ]
  },
  {
   "cell_type": "markdown",
   "metadata": {},
   "source": [
    "## COORD"
   ]
  },
  {
   "cell_type": "code",
   "execution_count": 7,
   "metadata": {},
   "outputs": [],
   "source": [
    "cmol1 = cnf.Cnf(in_coord1_path)\n",
    "cmol2 = cnf.Cnf(in_coord2_path)"
   ]
  },
  {
   "cell_type": "code",
   "execution_count": 44,
   "metadata": {
    "scrolled": false
   },
   "outputs": [
    {
     "data": {
      "application/3dmoljs_load.v0": "<div id=\"3dmolviewer_16324825821574805\"  style=\"position: relative; width: 400px; height: 400px\">\n        <p id=\"3dmolwarning_16324825821574805\" style=\"background-color:#ffcccc;color:black\">You appear to be running in JupyterLab (or JavaScript failed to load for some other reason).  You need to install the 3dmol extension: <br>\n        <tt>jupyter labextension install jupyterlab_3dmol</tt></p>\n        </div>\n<script>\n\nvar loadScriptAsync = function(uri){\n  return new Promise((resolve, reject) => {\n    var tag = document.createElement('script');\n    tag.src = uri;\n    tag.async = true;\n    tag.onload = () => {\n      resolve();\n    };\n  var firstScriptTag = document.getElementsByTagName('script')[0];\n  firstScriptTag.parentNode.insertBefore(tag, firstScriptTag);\n});\n};\n\nif(typeof $3Dmolpromise === 'undefined') {\n$3Dmolpromise = null;\n  $3Dmolpromise = loadScriptAsync('https://3dmol.org/build/3Dmol.js');\n}\n\nvar viewer_16324825821574805 = null;\nvar warn = document.getElementById(\"3dmolwarning_16324825821574805\");\nif(warn) {\n    warn.parentNode.removeChild(warn);\n}\n$3Dmolpromise.then(function() {\nviewer_16324825821574805 = $3Dmol.createViewer($(\"#3dmolviewer_16324825821574805\"),{backgroundColor:\"white\"});\nviewer_16324825821574805.zoomTo();\n\tviewer_16324825821574805.addModel(\"18\\n# \\t >>> Generated with python lib function_libs utilities. (riniker group)\\t >>> line_seperator: '\\\\n'\\t field_seperator: '\\\\t'\\t comments_char: '#'# exported wit PyGromosTools\\nC  \\t-1.053000000    2.945000000   -0.010000000\\nC  \\t-1.020000000    1.434000000    0.001000000\\nC  \\t-2.192000000    0.708000000    0.007000000\\nH  \\t-3.146000000    1.232000000    0.005000000\\nC  \\t-2.192000000   -0.708000000    0.007000000\\nH  \\t-3.146000000   -1.232000000    0.005000000\\nC  \\t-1.020000000   -1.434000000    0.001000000\\nC  \\t-1.053000000   -2.945000000   -0.010000000\\nC  \\t 0.225000000   -0.719000000    0.002000000\\nC  \\t 0.225000000    0.719000000    0.002000000\\nC  \\t 1.475000000    1.397000000    0.002000000\\nH  \\t 1.489000000    2.483000000    0.005000000\\nC  \\t 2.669000000    0.707000000   -0.000000000\\nH  \\t 3.612000000    1.249000000    0.003000000\\nC  \\t 2.669000000   -0.707000000   -0.000000000\\nH  \\t 3.612000000   -1.249000000    0.003000000\\nC  \\t 1.475000000   -1.397000000    0.002000000\\nH  \\t 1.489000000   -2.483000000    0.005000000\\n\");\n\tviewer_16324825821574805.setStyle({\"model\": -1},{\"stick\": {}});\n\tviewer_16324825821574805.zoomTo();\nviewer_16324825821574805.render();\n});\n</script>",
      "text/html": [
       "<div id=\"3dmolviewer_16324825821574805\"  style=\"position: relative; width: 400px; height: 400px\">\n",
       "        <p id=\"3dmolwarning_16324825821574805\" style=\"background-color:#ffcccc;color:black\">You appear to be running in JupyterLab (or JavaScript failed to load for some other reason).  You need to install the 3dmol extension: <br>\n",
       "        <tt>jupyter labextension install jupyterlab_3dmol</tt></p>\n",
       "        </div>\n",
       "<script>\n",
       "\n",
       "var loadScriptAsync = function(uri){\n",
       "  return new Promise((resolve, reject) => {\n",
       "    var tag = document.createElement('script');\n",
       "    tag.src = uri;\n",
       "    tag.async = true;\n",
       "    tag.onload = () => {\n",
       "      resolve();\n",
       "    };\n",
       "  var firstScriptTag = document.getElementsByTagName('script')[0];\n",
       "  firstScriptTag.parentNode.insertBefore(tag, firstScriptTag);\n",
       "});\n",
       "};\n",
       "\n",
       "if(typeof $3Dmolpromise === 'undefined') {\n",
       "$3Dmolpromise = null;\n",
       "  $3Dmolpromise = loadScriptAsync('https://3dmol.org/build/3Dmol.js');\n",
       "}\n",
       "\n",
       "var viewer_16324825821574805 = null;\n",
       "var warn = document.getElementById(\"3dmolwarning_16324825821574805\");\n",
       "if(warn) {\n",
       "    warn.parentNode.removeChild(warn);\n",
       "}\n",
       "$3Dmolpromise.then(function() {\n",
       "viewer_16324825821574805 = $3Dmol.createViewer($(\"#3dmolviewer_16324825821574805\"),{backgroundColor:\"white\"});\n",
       "viewer_16324825821574805.zoomTo();\n",
       "\tviewer_16324825821574805.addModel(\"18\\n# \\t >>> Generated with python lib function_libs utilities. (riniker group)\\t >>> line_seperator: '\\\\n'\\t field_seperator: '\\\\t'\\t comments_char: '#'# exported wit PyGromosTools\\nC  \\t-1.053000000    2.945000000   -0.010000000\\nC  \\t-1.020000000    1.434000000    0.001000000\\nC  \\t-2.192000000    0.708000000    0.007000000\\nH  \\t-3.146000000    1.232000000    0.005000000\\nC  \\t-2.192000000   -0.708000000    0.007000000\\nH  \\t-3.146000000   -1.232000000    0.005000000\\nC  \\t-1.020000000   -1.434000000    0.001000000\\nC  \\t-1.053000000   -2.945000000   -0.010000000\\nC  \\t 0.225000000   -0.719000000    0.002000000\\nC  \\t 0.225000000    0.719000000    0.002000000\\nC  \\t 1.475000000    1.397000000    0.002000000\\nH  \\t 1.489000000    2.483000000    0.005000000\\nC  \\t 2.669000000    0.707000000   -0.000000000\\nH  \\t 3.612000000    1.249000000    0.003000000\\nC  \\t 2.669000000   -0.707000000   -0.000000000\\nH  \\t 3.612000000   -1.249000000    0.003000000\\nC  \\t 1.475000000   -1.397000000    0.002000000\\nH  \\t 1.489000000   -2.483000000    0.005000000\\n\");\n",
       "\tviewer_16324825821574805.setStyle({\"model\": -1},{\"stick\": {}});\n",
       "\tviewer_16324825821574805.zoomTo();\n",
       "viewer_16324825821574805.render();\n",
       "});\n",
       "</script>"
      ]
     },
     "metadata": {},
     "output_type": "display_data"
    },
    {
     "data": {
      "text/plain": [
       "<py3Dmol.view at 0x1f754f13348>"
      ]
     },
     "execution_count": 44,
     "metadata": {},
     "output_type": "execute_result"
    }
   ],
   "source": [
    "cmol2.visualize()"
   ]
  },
  {
   "cell_type": "code",
   "execution_count": 9,
   "metadata": {
    "scrolled": true
   },
   "outputs": [
    {
     "data": {
      "application/3dmoljs_load.v0": "<div id=\"3dmolviewer_16324818438529618\"  style=\"position: relative; width: 400px; height: 400px\">\n        <p id=\"3dmolwarning_16324818438529618\" style=\"background-color:#ffcccc;color:black\">You appear to be running in JupyterLab (or JavaScript failed to load for some other reason).  You need to install the 3dmol extension: <br>\n        <tt>jupyter labextension install jupyterlab_3dmol</tt></p>\n        </div>\n<script>\n\nvar loadScriptAsync = function(uri){\n  return new Promise((resolve, reject) => {\n    var tag = document.createElement('script');\n    tag.src = uri;\n    tag.async = true;\n    tag.onload = () => {\n      resolve();\n    };\n  var firstScriptTag = document.getElementsByTagName('script')[0];\n  firstScriptTag.parentNode.insertBefore(tag, firstScriptTag);\n});\n};\n\nif(typeof $3Dmolpromise === 'undefined') {\n$3Dmolpromise = null;\n  $3Dmolpromise = loadScriptAsync('https://3dmol.org/build/3Dmol.js');\n}\n\nvar viewer_16324818438529618 = null;\nvar warn = document.getElementById(\"3dmolwarning_16324818438529618\");\nif(warn) {\n    warn.parentNode.removeChild(warn);\n}\n$3Dmolpromise.then(function() {\nviewer_16324818438529618 = $3Dmol.createViewer($(\"#3dmolviewer_16324818438529618\"),{backgroundColor:\"white\"});\nviewer_16324818438529618.zoomTo();\n\tviewer_16324818438529618.addModel(\"15\\n# # exported wit PyGromosTools\\nC  \\t-3.213826700    0.573621610    0.026109160\\nO  \\t-2.309295940   -0.524320090   -0.007744980\\nC  \\t-0.963037660   -0.245675160   -0.015446840\\nC  \\t-0.105232380   -1.354955960   -0.006810080\\nH  \\t-0.538742570   -2.351362120    0.003626380\\nC  \\t 1.274717690   -1.184403330    0.007801720\\nH  \\t 1.922586340   -2.058523960    0.017780170\\nC  \\t 1.845344720    0.102759460    0.009377820\\nN  \\t 3.242373470    0.273014680   -0.049256000\\nH  \\t 3.556713000    1.153364100    0.346839610\\nH  \\t 3.759766180   -0.490093180    0.376209760\\nC  \\t 0.979273630    1.204608670   -0.002417820\\nH  \\t 1.392572850    2.211253610   -0.007942340\\nC  \\t-0.409941710    1.039251950   -0.019354200\\nH  \\t-1.042047540    1.920615250   -0.026750300\\n\");\n\tviewer_16324818438529618.setStyle({\"model\": -1},{\"stick\": {}});\n\tviewer_16324818438529618.zoomTo();\nviewer_16324818438529618.render();\n});\n</script>",
      "text/html": [
       "<div id=\"3dmolviewer_16324818438529618\"  style=\"position: relative; width: 400px; height: 400px\">\n",
       "        <p id=\"3dmolwarning_16324818438529618\" style=\"background-color:#ffcccc;color:black\">You appear to be running in JupyterLab (or JavaScript failed to load for some other reason).  You need to install the 3dmol extension: <br>\n",
       "        <tt>jupyter labextension install jupyterlab_3dmol</tt></p>\n",
       "        </div>\n",
       "<script>\n",
       "\n",
       "var loadScriptAsync = function(uri){\n",
       "  return new Promise((resolve, reject) => {\n",
       "    var tag = document.createElement('script');\n",
       "    tag.src = uri;\n",
       "    tag.async = true;\n",
       "    tag.onload = () => {\n",
       "      resolve();\n",
       "    };\n",
       "  var firstScriptTag = document.getElementsByTagName('script')[0];\n",
       "  firstScriptTag.parentNode.insertBefore(tag, firstScriptTag);\n",
       "});\n",
       "};\n",
       "\n",
       "if(typeof $3Dmolpromise === 'undefined') {\n",
       "$3Dmolpromise = null;\n",
       "  $3Dmolpromise = loadScriptAsync('https://3dmol.org/build/3Dmol.js');\n",
       "}\n",
       "\n",
       "var viewer_16324818438529618 = null;\n",
       "var warn = document.getElementById(\"3dmolwarning_16324818438529618\");\n",
       "if(warn) {\n",
       "    warn.parentNode.removeChild(warn);\n",
       "}\n",
       "$3Dmolpromise.then(function() {\n",
       "viewer_16324818438529618 = $3Dmol.createViewer($(\"#3dmolviewer_16324818438529618\"),{backgroundColor:\"white\"});\n",
       "viewer_16324818438529618.zoomTo();\n",
       "\tviewer_16324818438529618.addModel(\"15\\n# # exported wit PyGromosTools\\nC  \\t-3.213826700    0.573621610    0.026109160\\nO  \\t-2.309295940   -0.524320090   -0.007744980\\nC  \\t-0.963037660   -0.245675160   -0.015446840\\nC  \\t-0.105232380   -1.354955960   -0.006810080\\nH  \\t-0.538742570   -2.351362120    0.003626380\\nC  \\t 1.274717690   -1.184403330    0.007801720\\nH  \\t 1.922586340   -2.058523960    0.017780170\\nC  \\t 1.845344720    0.102759460    0.009377820\\nN  \\t 3.242373470    0.273014680   -0.049256000\\nH  \\t 3.556713000    1.153364100    0.346839610\\nH  \\t 3.759766180   -0.490093180    0.376209760\\nC  \\t 0.979273630    1.204608670   -0.002417820\\nH  \\t 1.392572850    2.211253610   -0.007942340\\nC  \\t-0.409941710    1.039251950   -0.019354200\\nH  \\t-1.042047540    1.920615250   -0.026750300\\n\");\n",
       "\tviewer_16324818438529618.setStyle({\"model\": -1},{\"stick\": {}});\n",
       "\tviewer_16324818438529618.zoomTo();\n",
       "viewer_16324818438529618.render();\n",
       "});\n",
       "</script>"
      ]
     },
     "metadata": {},
     "output_type": "display_data"
    },
    {
     "data": {
      "text/plain": [
       "<py3Dmol.view at 0x1f7539b13c8>"
      ]
     },
     "execution_count": 9,
     "metadata": {},
     "output_type": "execute_result"
    }
   ],
   "source": [
    " cmol1.visualize()"
   ]
  },
  {
   "cell_type": "markdown",
   "metadata": {},
   "source": [
    "### Atom Matching"
   ]
  },
  {
   "cell_type": "code",
   "execution_count": 40,
   "metadata": {},
   "outputs": [
    {
     "data": {
      "text/plain": [
       "(10,\n",
       " {2: 1, 1: 0, 3: 9, 5: 8, 7: 6, 11: 4, 13: 2, 14: 3, 12: 5, 8: 7},\n",
       " '[#6&R]1(-&!@[#8,#6;!R])-&@[#6&R]-&@[#6&R]-&@[#6&R](-&@[#6&R](-&@[#6&R]-&@1-&!@[#1&!R])-&!@[#1&!R])-&!@[#7,#6;!R]')"
      ]
     },
     "execution_count": 40,
     "metadata": {},
     "output_type": "execute_result"
    }
   ],
   "source": [
    "from rdkit.Chem import rdFMCS\n",
    "\n",
    "def find_atom_mapping(cnfA:cnf.Cnf, cnfB:cnf.Cnf)->(dict,str):\n",
    "    \n",
    "    mol1 = Chem.MolFromPDBBlock(cmol1.get_pdb(rdkit_ready=True), removeHs=False)\n",
    "    mol2 = Chem.MolFromPDBBlock(cmol2.get_pdb(rdkit_ready=True), removeHs=False)\n",
    "\n",
    "\n",
    "    #CompareElements\n",
    "    mcs = rdFMCS.FindMCS([mol1, mol2],\n",
    "                         atomCompare=rdFMCS.AtomCompare.CompareAnyHeavyAtom,\n",
    "                         bondCompare=rdFMCS.BondCompare.CompareOrderExact,\n",
    "                         ringMatchesRingOnly=True, completeRingsOnly=True)\n",
    "    #                    ringCompare=rdFMCS.RingCompare.StrictRingFusion)\n",
    "    smartsString = mcs.smartsString\n",
    "\n",
    "    ##MCS Match\n",
    "    patt = Chem.MolFromSmarts(smartsString)  # smartsString\n",
    "    mol1Match = mol1.GetSubstructMatch(patt)\n",
    "    mol2Match = mol2.GetSubstructMatch(patt)\n",
    "\n",
    "    atom_mappingAB = dict(zip(mol1Match, mol2Match))\n",
    "    return atom_mappingAB, smartsString\n",
    "\n",
    "atom_mappingAB, smart = find_atom_mapping(cnfA=mol1, cnfB=mol2)\n",
    "len(atom_mappingAB), atom_mappingAB, smart"
   ]
  },
  {
   "cell_type": "markdown",
   "metadata": {},
   "source": [
    "## COORDINATE Generation\n",
    "### Coord Alignment"
   ]
  },
  {
   "cell_type": "code",
   "execution_count": 32,
   "metadata": {},
   "outputs": [],
   "source": [
    "def align_cnfs_with_MCS(cnfA:cnf.Cnf, cnfB:cnf.Cnf, atom_mappingAB:int)->(cnf.Cnf, cnf.Cnf):\n",
    "    \n",
    "    cnfA= copy.deepcopy(cnfA)\n",
    "    cnfB= copy.deepcopy(cnfB)\n",
    "    \n",
    "    mol1 = Chem.MolFromPDBBlock(cnfA.get_pdb(rdkit_ready=True), removeHs=False)\n",
    "    mol2 = Chem.MolFromPDBBlock(cnfB.get_pdb(rdkit_ready=True), removeHs=False)\n",
    "    \n",
    "    AllChem.AlignMol(mol1, mol2, atomMap=list(atom_mappingAB.items()))\n",
    "\n",
    "\n",
    "    conf2 = mol2.GetConformer()\n",
    "    for ind, pos in enumerate(conf2.GetPositions()):\n",
    "        cnfB.POSITION[ind].xp= pos[0]/10\n",
    "        cnfB.POSITION[ind].yp= pos[1]/10\n",
    "        cnfB.POSITION[ind].zp= pos[2]/10\n",
    "\n",
    "    conf1 = mol1.GetConformer()\n",
    "    for ind, pos in enumerate(conf1.GetPositions()):\n",
    "        cnfA.POSITION[ind].xp= pos[0]/10\n",
    "        cnfA.POSITION[ind].yp= pos[1]/10\n",
    "        cnfA.POSITION[ind].zp= pos[2]/10\n",
    "        \n",
    "    return cnfA, cnfB\n",
    "\n",
    "cmol1, cmol2 = align_cnfs_with_MCS(cnfA=cmol1, cnfB=cmol2, atom_mappingAB=atom_mappingAB)\n",
    "\n"
   ]
  },
  {
   "cell_type": "markdown",
   "metadata": {},
   "source": [
    "### State merging"
   ]
  },
  {
   "cell_type": "code",
   "execution_count": 34,
   "metadata": {},
   "outputs": [
    {
     "data": {
      "application/3dmoljs_load.v0": "<div id=\"3dmolviewer_16324823539433584\"  style=\"position: relative; width: 400px; height: 400px\">\n        <p id=\"3dmolwarning_16324823539433584\" style=\"background-color:#ffcccc;color:black\">You appear to be running in JupyterLab (or JavaScript failed to load for some other reason).  You need to install the 3dmol extension: <br>\n        <tt>jupyter labextension install jupyterlab_3dmol</tt></p>\n        </div>\n<script>\n\nvar loadScriptAsync = function(uri){\n  return new Promise((resolve, reject) => {\n    var tag = document.createElement('script');\n    tag.src = uri;\n    tag.async = true;\n    tag.onload = () => {\n      resolve();\n    };\n  var firstScriptTag = document.getElementsByTagName('script')[0];\n  firstScriptTag.parentNode.insertBefore(tag, firstScriptTag);\n});\n};\n\nif(typeof $3Dmolpromise === 'undefined') {\n$3Dmolpromise = null;\n  $3Dmolpromise = loadScriptAsync('https://3dmol.org/build/3Dmol.js');\n}\n\nvar viewer_16324823539433584 = null;\nvar warn = document.getElementById(\"3dmolwarning_16324823539433584\");\nif(warn) {\n    warn.parentNode.removeChild(warn);\n}\n$3Dmolpromise.then(function() {\nviewer_16324823539433584 = $3Dmol.createViewer($(\"#3dmolviewer_16324823539433584\"),{backgroundColor:\"white\"});\nviewer_16324823539433584.zoomTo();\n\tviewer_16324823539433584.addModel(\"21\\n# \\t >>> Generated with python lib function_libs utilities. (riniker group)\\t >>> line_seperator: '\\\\n'\\t field_seperator: '\\\\t'\\t comments_char: '#'\\t >>> Generated with python lib function_libs utilities. (riniker group)\\t >>> line_seperator: '\\\\n'\\t field_seperator: '\\\\t'\\t comments_char: '#'# exported wit PyGromosTools\\nC  \\t-2.137382240    3.542968690   -0.031491890\\nC  \\t-0.930341590    2.790025590    0.002324800\\nC  \\t-1.029271620    1.419019930    0.007154500\\nC  \\t 0.182763670    0.714082390   -0.000022960\\nC  \\t 1.112734540    1.275130780   -0.009016600\\nC  \\t 0.193833090   -0.676914840   -0.017203670\\nC  \\t 1.145859200   -1.203865320   -0.026339610\\nC  \\t-1.007129980   -1.409975300   -0.021212990\\nC  \\t-0.993054500   -2.817981820    0.034603890\\nC  \\t-1.823061220   -3.244972360   -0.364392260\\nC  \\t-0.168063840   -3.229884950   -0.390508130\\nC  \\t-2.213165510   -0.696037850   -0.011034790\\nC  \\t-3.156137780   -1.238086120   -0.008037770\\nC  \\t-2.231235190    0.702958770    0.008147450\\nC  \\t-3.188260590    1.212909260    0.015281540\\nC  \\t 1.489000000    2.483000000    0.005000000\\nC  \\t 2.669000000    0.707000000   -0.000000000\\nC  \\t 3.612000000    1.249000000    0.003000000\\nC  \\t 2.669000000   -0.707000000   -0.000000000\\nC  \\t 3.612000000   -1.249000000    0.003000000\\nC  \\t 1.489000000   -2.483000000    0.005000000\\n\");\n\tviewer_16324823539433584.setStyle({\"model\": -1},{\"stick\": {}});\n\tviewer_16324823539433584.zoomTo();\nviewer_16324823539433584.render();\n});\n</script>",
      "text/html": [
       "<div id=\"3dmolviewer_16324823539433584\"  style=\"position: relative; width: 400px; height: 400px\">\n",
       "        <p id=\"3dmolwarning_16324823539433584\" style=\"background-color:#ffcccc;color:black\">You appear to be running in JupyterLab (or JavaScript failed to load for some other reason).  You need to install the 3dmol extension: <br>\n",
       "        <tt>jupyter labextension install jupyterlab_3dmol</tt></p>\n",
       "        </div>\n",
       "<script>\n",
       "\n",
       "var loadScriptAsync = function(uri){\n",
       "  return new Promise((resolve, reject) => {\n",
       "    var tag = document.createElement('script');\n",
       "    tag.src = uri;\n",
       "    tag.async = true;\n",
       "    tag.onload = () => {\n",
       "      resolve();\n",
       "    };\n",
       "  var firstScriptTag = document.getElementsByTagName('script')[0];\n",
       "  firstScriptTag.parentNode.insertBefore(tag, firstScriptTag);\n",
       "});\n",
       "};\n",
       "\n",
       "if(typeof $3Dmolpromise === 'undefined') {\n",
       "$3Dmolpromise = null;\n",
       "  $3Dmolpromise = loadScriptAsync('https://3dmol.org/build/3Dmol.js');\n",
       "}\n",
       "\n",
       "var viewer_16324823539433584 = null;\n",
       "var warn = document.getElementById(\"3dmolwarning_16324823539433584\");\n",
       "if(warn) {\n",
       "    warn.parentNode.removeChild(warn);\n",
       "}\n",
       "$3Dmolpromise.then(function() {\n",
       "viewer_16324823539433584 = $3Dmol.createViewer($(\"#3dmolviewer_16324823539433584\"),{backgroundColor:\"white\"});\n",
       "viewer_16324823539433584.zoomTo();\n",
       "\tviewer_16324823539433584.addModel(\"21\\n# \\t >>> Generated with python lib function_libs utilities. (riniker group)\\t >>> line_seperator: '\\\\n'\\t field_seperator: '\\\\t'\\t comments_char: '#'\\t >>> Generated with python lib function_libs utilities. (riniker group)\\t >>> line_seperator: '\\\\n'\\t field_seperator: '\\\\t'\\t comments_char: '#'# exported wit PyGromosTools\\nC  \\t-2.137382240    3.542968690   -0.031491890\\nC  \\t-0.930341590    2.790025590    0.002324800\\nC  \\t-1.029271620    1.419019930    0.007154500\\nC  \\t 0.182763670    0.714082390   -0.000022960\\nC  \\t 1.112734540    1.275130780   -0.009016600\\nC  \\t 0.193833090   -0.676914840   -0.017203670\\nC  \\t 1.145859200   -1.203865320   -0.026339610\\nC  \\t-1.007129980   -1.409975300   -0.021212990\\nC  \\t-0.993054500   -2.817981820    0.034603890\\nC  \\t-1.823061220   -3.244972360   -0.364392260\\nC  \\t-0.168063840   -3.229884950   -0.390508130\\nC  \\t-2.213165510   -0.696037850   -0.011034790\\nC  \\t-3.156137780   -1.238086120   -0.008037770\\nC  \\t-2.231235190    0.702958770    0.008147450\\nC  \\t-3.188260590    1.212909260    0.015281540\\nC  \\t 1.489000000    2.483000000    0.005000000\\nC  \\t 2.669000000    0.707000000   -0.000000000\\nC  \\t 3.612000000    1.249000000    0.003000000\\nC  \\t 2.669000000   -0.707000000   -0.000000000\\nC  \\t 3.612000000   -1.249000000    0.003000000\\nC  \\t 1.489000000   -2.483000000    0.005000000\\n\");\n",
       "\tviewer_16324823539433584.setStyle({\"model\": -1},{\"stick\": {}});\n",
       "\tviewer_16324823539433584.zoomTo();\n",
       "viewer_16324823539433584.render();\n",
       "});\n",
       "</script>"
      ]
     },
     "metadata": {},
     "output_type": "display_data"
    },
    {
     "data": {
      "text/plain": [
       "<py3Dmol.view at 0x1f75498c408>"
      ]
     },
     "execution_count": 34,
     "metadata": {},
     "output_type": "execute_result"
    }
   ],
   "source": [
    "eucldean_dist = lambda x,y: np.sqrt((x.xp-y.xp)**2+(x.yp-y.yp)**2+(x.zp-y.zp)**2)\n",
    "\n",
    "def merge_states(cnfA:cnf.Cnf, cnfB:cnf.Cnf, atomMatchingAB:dict, dist_tresh:float=0.09)-> cnf.Cnf:#nm\n",
    "    \n",
    "    \n",
    "    natoms_in_a=len(cnfA.POSITION)\n",
    "    match_molA, match_molB = np.array(list(atom_mappingAB.items())).T\n",
    "\n",
    "    cmol_comb = copy.deepcopy(cnfA)    \n",
    "    \n",
    "    for pos in cnfB.POSITION:\n",
    "        #print(pos)\n",
    "        #print(pos.atomID in selected_b_match)\n",
    "        #print(any([eucldean_dist(pos, pos2) < dist_tresh for pos2 in cmol_comb.POSITION]), [eucldean_dist(pos, pos2) <dist_tresh for pos2 in cmol_comb.POSITION])\n",
    "        #print([eucldean_dist(pos, pos2)  for pos2 in selected_b_cnf.POSITION])\n",
    "\n",
    "        if(pos.atomID in match_molB or \n",
    "           any([eucldean_dist(pos, pos2) < dist_tresh for pos2 in cnfA.POSITION])):#check distance\n",
    "            #print(\"OW!\")\n",
    "            continue\n",
    "        else:\n",
    "            #print('new')\n",
    "            pos = copy.deepcopy(pos)\n",
    "            pos.resID=2\n",
    "            pos.atomID += natoms_in_a\n",
    "            cmol_comb.POSITION.append(pos)\n",
    "\n",
    "    #clean cmol_comb\n",
    "    present_atoms = []\n",
    "    for pos in cmol_comb.POSITION:\n",
    "        pos.resID=1\n",
    "        pos.atomType = \"C\"\n",
    "        pos.resName=cmol1.POSITION[0].resName[:2]+cmol2.POSITION[0].resName[2:4]\n",
    "        present_atoms.append(pos.atomID)\n",
    "    return cmol_comb\n",
    "\n",
    "cmol_comb = merge_states(cnfA=cmol1, cnfB=cmol2, atomMatchingAB=atom_mappingAB, dist_tresh=0.09)\n",
    "cmol_comb.write(\"fung.g96\")\n",
    "cmol_comb.visualize()"
   ]
  },
  {
   "cell_type": "code",
   "execution_count": 35,
   "metadata": {},
   "outputs": [
    {
     "data": {
      "text/plain": [
       "POSITION\n",
       "# \t \n",
       "    1 F378  C          1   -0.213738224    0.354296869   -0.003149189\n",
       "    1 F378  C          2   -0.093034159    0.279002559    0.000232480\n",
       "    1 F378  C          3   -0.102927162    0.141901993    0.000715450\n",
       "    1 F378  C          4    0.018276367    0.071408239   -0.000002296\n",
       "    1 F378  C          5    0.111273454    0.127513078   -0.000901660\n",
       "    1 F378  C          6    0.019383309   -0.067691484   -0.001720367\n",
       "    1 F378  C          7    0.114585920   -0.120386532   -0.002633961\n",
       "    1 F378  C          8   -0.100712998   -0.140997530   -0.002121299\n",
       "    1 F378  C          9   -0.099305450   -0.281798182    0.003460389\n",
       "    1 F378  C         10   -0.182306122   -0.324497236   -0.036439226\n",
       "    1 F378  C         11   -0.016806384   -0.322988495   -0.039050813\n",
       "    1 F378  C         12   -0.221316551   -0.069603785   -0.001103479\n",
       "    1 F378  C         13   -0.315613778   -0.123808612   -0.000803777\n",
       "    1 F378  C         14   -0.223123519    0.070295877    0.000814745\n",
       "    1 F378  C         15   -0.318826059    0.121290926    0.001528154\n",
       "    1 F378  C         27    0.148900000    0.248300000    0.000500000\n",
       "    1 F378  C         28    0.266900000    0.070700000   -0.000000000\n",
       "    1 F378  C         29    0.361200000    0.124900000    0.000300000\n",
       "    1 F378  C         30    0.266900000   -0.070700000   -0.000000000\n",
       "    1 F378  C         31    0.361200000   -0.124900000    0.000300000\n",
       "    1 F378  C         33    0.148900000   -0.248300000    0.000500000\n",
       "END"
      ]
     },
     "execution_count": 35,
     "metadata": {},
     "output_type": "execute_result"
    }
   ],
   "source": [
    "cmol_comb.POSITION"
   ]
  },
  {
   "cell_type": "markdown",
   "metadata": {},
   "source": [
    "## Topology"
   ]
  },
  {
   "cell_type": "code",
   "execution_count": 41,
   "metadata": {},
   "outputs": [],
   "source": [
    "top1 = top.Top(in_top1_path)\n",
    "top2 = top.Top(in_top2_path)\n"
   ]
  },
  {
   "cell_type": "code",
   "execution_count": 42,
   "metadata": {},
   "outputs": [],
   "source": [
    "com_top = top2\n",
    "com_top += top1\n",
    "red_com_top = copy.deepcopy(com_top)"
   ]
  },
  {
   "cell_type": "code",
   "execution_count": 56,
   "metadata": {},
   "outputs": [],
   "source": [
    "#BONDS\n",
    "bonds =[]\n",
    "for bond in com_top.BOND:\n",
    "    if(bond.IB in present_atoms and bond.JB in present_atoms):\n",
    "        bonds.append(bond)\n",
    "red_com_top.BOND.content = bonds\n",
    "red_com_top.BOND.NBON = len(bonds)\n",
    "\n",
    "#BondAngles\n",
    "angles =[]\n",
    "for angle in com_top.BONDANGLE:\n",
    "    if(angle.IT in present_atoms and angle.JT in present_atoms and angle.KT in present_atoms):\n",
    "        angles.append(angle)\n",
    "\n",
    "red_com_top.BONDANGLE.content = angles\n",
    "red_com_top.BONDANGLE.NTHE = len(angles)\n",
    "\n",
    "#BondAnglesH\n",
    "anglesH =[]\n",
    "for angleH in com_top.BONDANGLEH:\n",
    "    if(angleH.IT in present_atoms and angleH.JT in present_atoms and angleH.KT in present_atoms):\n",
    "        anglesH.append(angle)\n",
    "\n",
    "red_com_top.BONDANGLEH.content = anglesH\n",
    "red_com_top.BONDANGLEH.NTHEH = len(anglesH)\n",
    "\n",
    "#Dihedrals\n",
    "dihedrals =[]\n",
    "for dih in com_top.DIHEDRAL:\n",
    "    if(dih.IP in present_atoms and dih.JP in present_atoms and dih.KP in present_atoms and dih.LP in present_atoms):\n",
    "        dihedrals.append(dih)\n",
    "\n",
    "red_com_top.DIHEDRAL.content = dihedrals\n",
    "red_com_top.DIHEDRAL.NPHI = len(dihedrals)\n",
    "\n",
    "#DihedralsH\n",
    "dihedralsH =[]\n",
    "for dihh in com_top.DIHEDRALH:\n",
    "    if(dihh.IPH in present_atoms and dihh.JPH in present_atoms and dihh.KPH in present_atoms and dihh.LPH in present_atoms):\n",
    "        dihedralsH.append(dihh)\n",
    "\n",
    "red_com_top.DIHEDRALH.content = dihedralsH\n",
    "red_com_top.DIHEDRALH.NPHIH = len(dihedralsH)\n",
    "\n",
    "#Impropers\n",
    "impdihedrals =[]\n",
    "for imp in com_top.IMPDIHEDRAL:\n",
    "    if(imp.IQ in present_atoms and imp.JQ in present_atoms and imp.KQ in present_atoms and imp.LQ in present_atoms):\n",
    "        impdihedrals.append(dihh)\n",
    "\n",
    "red_com_top.IMPDIHEDRAL.content = impdihedrals\n",
    "red_com_top.IMPDIHEDRAL.NQHI = len(impdihedrals)\n",
    "\n",
    "#ImpropersH\n",
    "impdihedralsH =[]\n",
    "for impH in com_top.IMPDIHEDRALH:\n",
    "    if(impH.IQH in present_atoms and impH.JQH in present_atoms and impH.KQH in present_atoms and impH.LQH in present_atoms):\n",
    "        impdihedralsH.append(dihh)\n",
    "\n",
    "red_com_top.IMPDIHEDRALH.content = impdihedralsH\n",
    "red_com_top.IMPDIHEDRALH.NQHIH = len(impdihedralsH)\n",
    "\n",
    "#Mass, VDW, Charge\n",
    "sol =[]\n",
    "for atm in com_top.SOLUTEATOM:\n",
    "    if(atm.ATNM in present_atoms):\n",
    "        sol.append(atm)\n",
    "\n",
    "red_com_top.SOLUTEATOM.content = sol \n",
    "red_com_top.SOLUTEATOM.NRP = len(sol)\n",
    "\n",
    "\"\"\"\n",
    "#crossDIHEDRAL\n",
    "crds =[]\n",
    "for crd in com_top.CROSSDIHEDRAL:\n",
    "    print(vars(crd))\n",
    "    if(crd.ATNM in present_atoms):\n",
    "        crds.append(atm)\n",
    "\n",
    "red_com_top.CROSSDIHEDRAL.content = crds \n",
    "\n",
    "#crossDIHEDRALH\n",
    "crdsH =[]\n",
    "for crdH in com_top.CROSSDIHEDRALH:\n",
    "    print(vars(crdH))\n",
    "    if(crdH.ATNM in present_atoms):\n",
    "        crdsH.append(atm)\n",
    "\n",
    "red_com_top.CROSSDIHEDRALH.content = crdsH\n",
    "\"\"\"\n",
    "\n",
    "##resname meshing\n",
    "molA_Name = com_top.RESNAME.content[1][0]\n",
    "molB_Name = com_top.RESNAME.content[2][0]\n",
    "\n",
    "red_com_top.RESNAME.content = [['1'], [molA_Name[:2]+molB_Name[:2]]]\n",
    "\n",
    "\n",
    "pass"
   ]
  },
  {
   "cell_type": "markdown",
   "metadata": {},
   "source": [
    "### Build PTP"
   ]
  },
  {
   "cell_type": "code",
   "execution_count": 21,
   "metadata": {},
   "outputs": [],
   "source": [
    "ptp_file = ptp.Ptp()"
   ]
  },
  {
   "cell_type": "code",
   "execution_count": 22,
   "metadata": {},
   "outputs": [],
   "source": [
    "from pygromos.files.blocks.topology_blocks import PERTPROPERDIH, atom_lam_pertubation_state_dihedral"
   ]
  },
  {
   "cell_type": "code",
   "execution_count": 23,
   "metadata": {},
   "outputs": [],
   "source": [
    "pertproperdih =PERTPROPERDIH()"
   ]
  },
  {
   "cell_type": "code",
   "execution_count": null,
   "metadata": {},
   "outputs": [],
   "source": []
  },
  {
   "cell_type": "code",
   "execution_count": null,
   "metadata": {},
   "outputs": [],
   "source": []
  },
  {
   "cell_type": "code",
   "execution_count": null,
   "metadata": {},
   "outputs": [],
   "source": []
  },
  {
   "cell_type": "code",
   "execution_count": null,
   "metadata": {},
   "outputs": [],
   "source": []
  },
  {
   "cell_type": "code",
   "execution_count": 24,
   "metadata": {},
   "outputs": [
    {
     "ename": "SyntaxError",
     "evalue": "invalid syntax (Temp/ipykernel_7584/1245646628.py, line 1)",
     "output_type": "error",
     "traceback": [
      "\u001b[1;36m  File \u001b[1;32m\"C:\\Users\\benja\\AppData\\Local\\Temp/ipykernel_7584/1245646628.py\"\u001b[1;36m, line \u001b[1;32m1\u001b[0m\n\u001b[1;33m    for\u001b[0m\n\u001b[1;37m        ^\u001b[0m\n\u001b[1;31mSyntaxError\u001b[0m\u001b[1;31m:\u001b[0m invalid syntax\n"
     ]
    }
   ],
   "source": [
    "for \n",
    "pertproperdih.content.append()"
   ]
  },
  {
   "cell_type": "code",
   "execution_count": null,
   "metadata": {},
   "outputs": [],
   "source": [
    "## DONE"
   ]
  }
 ],
 "metadata": {
  "kernelspec": {
   "display_name": "PyCharm (PyGromosTools)",
   "language": "python",
   "name": "pycharm-8751cf47"
  },
  "language_info": {
   "codemirror_mode": {
    "name": "ipython",
    "version": 3
   },
   "file_extension": ".py",
   "mimetype": "text/x-python",
   "name": "python",
   "nbconvert_exporter": "python",
   "pygments_lexer": "ipython3",
   "version": "3.7.11"
  }
 },
 "nbformat": 4,
 "nbformat_minor": 1
}
