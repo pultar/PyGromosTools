{
 "cells": [
  {
   "cell_type": "code",
   "execution_count": 1,
   "metadata": {
    "pycharm": {
     "is_executing": true
    }
   },
   "outputs": [],
   "source": [
    "from pygromos.files.topology import top\n",
    "from pygromos.files.topology import ptp\n",
    "\n",
    "import numpy as np"
   ]
  },
  {
   "cell_type": "code",
   "execution_count": 2,
   "metadata": {
    "pycharm": {
     "is_executing": true,
     "name": "#%%\n"
    }
   },
   "outputs": [],
   "source": [
    "in_top1_path = \"F313.top\"\n",
    "in_top2_path = \"G078.top\"\n",
    "out_ptp_path = \"test.ptp\"\n",
    "\n",
    "in_coord2_path = \"G078_unitedatom_optimised_geometry.g96\"\n",
    "in_coord1_path = \"F313_unitedatom_optimised_geometry.g96\""
   ]
  },
  {
   "cell_type": "code",
   "execution_count": 3,
   "metadata": {
    "pycharm": {
     "name": "#%%\n"
    }
   },
   "outputs": [],
   "source": [
    "def generate_dual_topology_approach( eds:bool=False):\n",
    "    pass"
   ]
  },
  {
   "cell_type": "code",
   "execution_count": 4,
   "metadata": {
    "pycharm": {
     "name": "#%%\n"
    }
   },
   "outputs": [],
   "source": [
    "def generate_hybrid_topology_approach():\n",
    "    pass"
   ]
  },
  {
   "cell_type": "code",
   "execution_count": 5,
   "metadata": {
    "pycharm": {
     "name": "#%%\n"
    }
   },
   "outputs": [],
   "source": [
    "atom_ids = {}\n",
    "\n",
    "def generate_single_topology_approach(topology:top.Top, atom_mapping:dict):\n",
    "\n",
    "\n",
    "    pass"
   ]
  },
  {
   "cell_type": "code",
   "execution_count": 6,
   "metadata": {
    "pycharm": {
     "name": "#%%\n"
    }
   },
   "outputs": [],
   "source": [
    "top1 = top.Top(in_top1_path)\n",
    "top2 = top.Top(in_top2_path)\n"
   ]
  },
  {
   "cell_type": "markdown",
   "metadata": {},
   "source": [
    "## COORD"
   ]
  },
  {
   "cell_type": "code",
   "execution_count": 7,
   "metadata": {},
   "outputs": [],
   "source": [
    "from pygromos.files.coord import cnf\n",
    "\n",
    "cmol1 = cnf.Cnf(in_coord1_path)\n",
    "cmol2 = cnf.Cnf(in_coord2_path)"
   ]
  },
  {
   "cell_type": "code",
   "execution_count": 8,
   "metadata": {
    "scrolled": false
   },
   "outputs": [
    {
     "data": {
      "application/3dmoljs_load.v0": "<div id=\"3dmolviewer_16324751316571145\"  style=\"position: relative; width: 400px; height: 400px\">\n        <p id=\"3dmolwarning_16324751316571145\" style=\"background-color:#ffcccc;color:black\">You appear to be running in JupyterLab (or JavaScript failed to load for some other reason).  You need to install the 3dmol extension: <br>\n        <tt>jupyter labextension install jupyterlab_3dmol</tt></p>\n        </div>\n<script>\n\nvar loadScriptAsync = function(uri){\n  return new Promise((resolve, reject) => {\n    var tag = document.createElement('script');\n    tag.src = uri;\n    tag.async = true;\n    tag.onload = () => {\n      resolve();\n    };\n  var firstScriptTag = document.getElementsByTagName('script')[0];\n  firstScriptTag.parentNode.insertBefore(tag, firstScriptTag);\n});\n};\n\nif(typeof $3Dmolpromise === 'undefined') {\n$3Dmolpromise = null;\n  $3Dmolpromise = loadScriptAsync('https://3dmol.org/build/3Dmol.js');\n}\n\nvar viewer_16324751316571145 = null;\nvar warn = document.getElementById(\"3dmolwarning_16324751316571145\");\nif(warn) {\n    warn.parentNode.removeChild(warn);\n}\n$3Dmolpromise.then(function() {\nviewer_16324751316571145 = $3Dmol.createViewer($(\"#3dmolviewer_16324751316571145\"),{backgroundColor:\"white\"});\nviewer_16324751316571145.zoomTo();\n\tviewer_16324751316571145.addModel(\"18\\n# # exported wit PyGromosTools\\nC  \\t-1.052943270    2.944561280   -0.009586130\\nC  \\t-1.020274490    1.434246510    0.000758140\\nC  \\t-2.192480480    0.707846580    0.007200050\\nH  \\t-3.145809440    1.232113840    0.005144630\\nC  \\t-2.192471020   -0.707865840    0.007199640\\nH  \\t-3.145787540   -1.232158320    0.005073740\\nC  \\t-1.020259350   -1.434249810    0.000732810\\nC  \\t-1.052921390   -2.944570080   -0.009635030\\nC  \\t 0.224557140   -0.719300880    0.001961960\\nC  \\t 0.224560110    0.719320150    0.001897750\\nC  \\t 1.475424350    1.397157890    0.002062840\\nH  \\t 1.489052100    2.482778890    0.005024440\\nC  \\t 2.669300520    0.706613610   -0.000295470\\nH  \\t 3.611580380    1.248666720    0.002729340\\nC  \\t 2.669305690   -0.706611360   -0.000197900\\nH  \\t 3.611594460   -1.248644100    0.002868280\\nC  \\t 1.475421730   -1.397140600    0.002129010\\nH  \\t 1.489016030   -2.482760500    0.005129060\\n\");\n\tviewer_16324751316571145.setStyle({\"model\": -1},{\"stick\": {}});\n\tviewer_16324751316571145.zoomTo();\nviewer_16324751316571145.render();\n});\n</script>",
      "text/html": [
       "<div id=\"3dmolviewer_16324751316571145\"  style=\"position: relative; width: 400px; height: 400px\">\n",
       "        <p id=\"3dmolwarning_16324751316571145\" style=\"background-color:#ffcccc;color:black\">You appear to be running in JupyterLab (or JavaScript failed to load for some other reason).  You need to install the 3dmol extension: <br>\n",
       "        <tt>jupyter labextension install jupyterlab_3dmol</tt></p>\n",
       "        </div>\n",
       "<script>\n",
       "\n",
       "var loadScriptAsync = function(uri){\n",
       "  return new Promise((resolve, reject) => {\n",
       "    var tag = document.createElement('script');\n",
       "    tag.src = uri;\n",
       "    tag.async = true;\n",
       "    tag.onload = () => {\n",
       "      resolve();\n",
       "    };\n",
       "  var firstScriptTag = document.getElementsByTagName('script')[0];\n",
       "  firstScriptTag.parentNode.insertBefore(tag, firstScriptTag);\n",
       "});\n",
       "};\n",
       "\n",
       "if(typeof $3Dmolpromise === 'undefined') {\n",
       "$3Dmolpromise = null;\n",
       "  $3Dmolpromise = loadScriptAsync('https://3dmol.org/build/3Dmol.js');\n",
       "}\n",
       "\n",
       "var viewer_16324751316571145 = null;\n",
       "var warn = document.getElementById(\"3dmolwarning_16324751316571145\");\n",
       "if(warn) {\n",
       "    warn.parentNode.removeChild(warn);\n",
       "}\n",
       "$3Dmolpromise.then(function() {\n",
       "viewer_16324751316571145 = $3Dmol.createViewer($(\"#3dmolviewer_16324751316571145\"),{backgroundColor:\"white\"});\n",
       "viewer_16324751316571145.zoomTo();\n",
       "\tviewer_16324751316571145.addModel(\"18\\n# # exported wit PyGromosTools\\nC  \\t-1.052943270    2.944561280   -0.009586130\\nC  \\t-1.020274490    1.434246510    0.000758140\\nC  \\t-2.192480480    0.707846580    0.007200050\\nH  \\t-3.145809440    1.232113840    0.005144630\\nC  \\t-2.192471020   -0.707865840    0.007199640\\nH  \\t-3.145787540   -1.232158320    0.005073740\\nC  \\t-1.020259350   -1.434249810    0.000732810\\nC  \\t-1.052921390   -2.944570080   -0.009635030\\nC  \\t 0.224557140   -0.719300880    0.001961960\\nC  \\t 0.224560110    0.719320150    0.001897750\\nC  \\t 1.475424350    1.397157890    0.002062840\\nH  \\t 1.489052100    2.482778890    0.005024440\\nC  \\t 2.669300520    0.706613610   -0.000295470\\nH  \\t 3.611580380    1.248666720    0.002729340\\nC  \\t 2.669305690   -0.706611360   -0.000197900\\nH  \\t 3.611594460   -1.248644100    0.002868280\\nC  \\t 1.475421730   -1.397140600    0.002129010\\nH  \\t 1.489016030   -2.482760500    0.005129060\\n\");\n",
       "\tviewer_16324751316571145.setStyle({\"model\": -1},{\"stick\": {}});\n",
       "\tviewer_16324751316571145.zoomTo();\n",
       "viewer_16324751316571145.render();\n",
       "});\n",
       "</script>"
      ]
     },
     "metadata": {},
     "output_type": "display_data"
    },
    {
     "data": {
      "text/plain": [
       "<py3Dmol.view at 0x1b42b65d9c8>"
      ]
     },
     "execution_count": 8,
     "metadata": {},
     "output_type": "execute_result"
    }
   ],
   "source": [
    "cmol2.visualize()"
   ]
  },
  {
   "cell_type": "code",
   "execution_count": 9,
   "metadata": {
    "scrolled": true
   },
   "outputs": [
    {
     "data": {
      "application/3dmoljs_load.v0": "<div id=\"3dmolviewer_16324751316662612\"  style=\"position: relative; width: 400px; height: 400px\">\n        <p id=\"3dmolwarning_16324751316662612\" style=\"background-color:#ffcccc;color:black\">You appear to be running in JupyterLab (or JavaScript failed to load for some other reason).  You need to install the 3dmol extension: <br>\n        <tt>jupyter labextension install jupyterlab_3dmol</tt></p>\n        </div>\n<script>\n\nvar loadScriptAsync = function(uri){\n  return new Promise((resolve, reject) => {\n    var tag = document.createElement('script');\n    tag.src = uri;\n    tag.async = true;\n    tag.onload = () => {\n      resolve();\n    };\n  var firstScriptTag = document.getElementsByTagName('script')[0];\n  firstScriptTag.parentNode.insertBefore(tag, firstScriptTag);\n});\n};\n\nif(typeof $3Dmolpromise === 'undefined') {\n$3Dmolpromise = null;\n  $3Dmolpromise = loadScriptAsync('https://3dmol.org/build/3Dmol.js');\n}\n\nvar viewer_16324751316662612 = null;\nvar warn = document.getElementById(\"3dmolwarning_16324751316662612\");\nif(warn) {\n    warn.parentNode.removeChild(warn);\n}\n$3Dmolpromise.then(function() {\nviewer_16324751316662612 = $3Dmol.createViewer($(\"#3dmolviewer_16324751316662612\"),{backgroundColor:\"white\"});\nviewer_16324751316662612.zoomTo();\n\tviewer_16324751316662612.addModel(\"15\\n# # exported wit PyGromosTools\\nC  \\t-3.213826700    0.573621610    0.026109160\\nO  \\t-2.309295940   -0.524320090   -0.007744980\\nC  \\t-0.963037660   -0.245675160   -0.015446840\\nC  \\t-0.105232380   -1.354955960   -0.006810080\\nH  \\t-0.538742570   -2.351362120    0.003626380\\nC  \\t 1.274717690   -1.184403330    0.007801720\\nH  \\t 1.922586340   -2.058523960    0.017780170\\nC  \\t 1.845344720    0.102759460    0.009377820\\nN  \\t 3.242373470    0.273014680   -0.049256000\\nH  \\t 3.556713000    1.153364100    0.346839610\\nH  \\t 3.759766180   -0.490093180    0.376209760\\nC  \\t 0.979273630    1.204608670   -0.002417820\\nH  \\t 1.392572850    2.211253610   -0.007942340\\nC  \\t-0.409941710    1.039251950   -0.019354200\\nH  \\t-1.042047540    1.920615250   -0.026750300\\n\");\n\tviewer_16324751316662612.setStyle({\"model\": -1},{\"stick\": {}});\n\tviewer_16324751316662612.zoomTo();\nviewer_16324751316662612.render();\n});\n</script>",
      "text/html": [
       "<div id=\"3dmolviewer_16324751316662612\"  style=\"position: relative; width: 400px; height: 400px\">\n",
       "        <p id=\"3dmolwarning_16324751316662612\" style=\"background-color:#ffcccc;color:black\">You appear to be running in JupyterLab (or JavaScript failed to load for some other reason).  You need to install the 3dmol extension: <br>\n",
       "        <tt>jupyter labextension install jupyterlab_3dmol</tt></p>\n",
       "        </div>\n",
       "<script>\n",
       "\n",
       "var loadScriptAsync = function(uri){\n",
       "  return new Promise((resolve, reject) => {\n",
       "    var tag = document.createElement('script');\n",
       "    tag.src = uri;\n",
       "    tag.async = true;\n",
       "    tag.onload = () => {\n",
       "      resolve();\n",
       "    };\n",
       "  var firstScriptTag = document.getElementsByTagName('script')[0];\n",
       "  firstScriptTag.parentNode.insertBefore(tag, firstScriptTag);\n",
       "});\n",
       "};\n",
       "\n",
       "if(typeof $3Dmolpromise === 'undefined') {\n",
       "$3Dmolpromise = null;\n",
       "  $3Dmolpromise = loadScriptAsync('https://3dmol.org/build/3Dmol.js');\n",
       "}\n",
       "\n",
       "var viewer_16324751316662612 = null;\n",
       "var warn = document.getElementById(\"3dmolwarning_16324751316662612\");\n",
       "if(warn) {\n",
       "    warn.parentNode.removeChild(warn);\n",
       "}\n",
       "$3Dmolpromise.then(function() {\n",
       "viewer_16324751316662612 = $3Dmol.createViewer($(\"#3dmolviewer_16324751316662612\"),{backgroundColor:\"white\"});\n",
       "viewer_16324751316662612.zoomTo();\n",
       "\tviewer_16324751316662612.addModel(\"15\\n# # exported wit PyGromosTools\\nC  \\t-3.213826700    0.573621610    0.026109160\\nO  \\t-2.309295940   -0.524320090   -0.007744980\\nC  \\t-0.963037660   -0.245675160   -0.015446840\\nC  \\t-0.105232380   -1.354955960   -0.006810080\\nH  \\t-0.538742570   -2.351362120    0.003626380\\nC  \\t 1.274717690   -1.184403330    0.007801720\\nH  \\t 1.922586340   -2.058523960    0.017780170\\nC  \\t 1.845344720    0.102759460    0.009377820\\nN  \\t 3.242373470    0.273014680   -0.049256000\\nH  \\t 3.556713000    1.153364100    0.346839610\\nH  \\t 3.759766180   -0.490093180    0.376209760\\nC  \\t 0.979273630    1.204608670   -0.002417820\\nH  \\t 1.392572850    2.211253610   -0.007942340\\nC  \\t-0.409941710    1.039251950   -0.019354200\\nH  \\t-1.042047540    1.920615250   -0.026750300\\n\");\n",
       "\tviewer_16324751316662612.setStyle({\"model\": -1},{\"stick\": {}});\n",
       "\tviewer_16324751316662612.zoomTo();\n",
       "viewer_16324751316662612.render();\n",
       "});\n",
       "</script>"
      ]
     },
     "metadata": {},
     "output_type": "display_data"
    },
    {
     "data": {
      "text/plain": [
       "<py3Dmol.view at 0x1b42c2161c8>"
      ]
     },
     "execution_count": 9,
     "metadata": {},
     "output_type": "execute_result"
    }
   ],
   "source": [
    "cmol1.visualize()"
   ]
  },
  {
   "cell_type": "code",
   "execution_count": 10,
   "metadata": {},
   "outputs": [
    {
     "name": "stdout",
     "output_type": "stream",
     "text": [
      "<rdkit.Chem.rdchem.Mol object at 0x000001B42C234990> <rdkit.Chem.rdchem.Mol object at 0x000001B42C234BC0>\n"
     ]
    }
   ],
   "source": [
    "from rdkit import Chem\n",
    "\n",
    "mol1 = Chem.MolFromPDBBlock(cmol1.get_pdb(rdkit_ready=True), removeHs=False)\n",
    "mol2 = Chem.MolFromPDBBlock(cmol2.get_pdb(rdkit_ready=True), removeHs=False)\n",
    "\n",
    "print(mol1, mol2)\n"
   ]
  },
  {
   "cell_type": "markdown",
   "metadata": {},
   "source": [
    "### Atom Matching"
   ]
  },
  {
   "cell_type": "code",
   "execution_count": 26,
   "metadata": {},
   "outputs": [
    {
     "name": "stdout",
     "output_type": "stream",
     "text": [
      "[#6]1(-[#8,#1])-[#6](-[#1,#6])-[#6](-[#1,#6])-[#6](-[#6](-[#6]-1-[#1])-[#1,#6])-[#7,#6](-[#1,#6])-[#1]\n"
     ]
    },
    {
     "data": {
      "text/plain": [
       "(14,\n",
       " {2: 2,\n",
       "  1: 3,\n",
       "  3: 1,\n",
       "  4: 0,\n",
       "  5: 9,\n",
       "  6: 10,\n",
       "  7: 8,\n",
       "  11: 6,\n",
       "  13: 4,\n",
       "  14: 5,\n",
       "  12: 7,\n",
       "  8: 16,\n",
       "  9: 14,\n",
       "  10: 17})"
      ]
     },
     "execution_count": 26,
     "metadata": {},
     "output_type": "execute_result"
    }
   ],
   "source": [
    "from rdkit.Chem import rdFMCS\n",
    "\n",
    "#CompareElements\n",
    "mcs = rdFMCS.FindMCS([mol1, mol2],\n",
    "                     atomCompare=rdFMCS.AtomCompare.CompareElements,\n",
    "                     bondCompare=rdFMCS.BondCompare.CompareOrderExact,\n",
    "                    ringCompare=rdFMCS.RingCompare.StrictRingFusion)\n",
    "smartsString = mcs.smartsString\n",
    "print(smartsString)\n",
    "\n",
    "##MCS Match\n",
    "patt = Chem.MolFromSmarts(smartsString)  # smartsString\n",
    "mol1Match = mol1.GetSubstructMatch(patt)\n",
    "mol2Match = mol2.GetSubstructMatch(patt)\n",
    "\n",
    "atom_mapping = dict(zip(mol1Match, mol2Match))\n",
    "len(atom_mapping), atom_mapping"
   ]
  },
  {
   "cell_type": "markdown",
   "metadata": {},
   "source": [
    "### Coord Alignment"
   ]
  },
  {
   "cell_type": "code",
   "execution_count": 27,
   "metadata": {},
   "outputs": [
    {
     "data": {
      "text/plain": [
       "{2: 2,\n",
       " 1: 3,\n",
       " 3: 1,\n",
       " 4: 0,\n",
       " 5: 9,\n",
       " 6: 10,\n",
       " 7: 8,\n",
       " 11: 6,\n",
       " 13: 4,\n",
       " 14: 5,\n",
       " 12: 7,\n",
       " 8: 16,\n",
       " 9: 14,\n",
       " 10: 17}"
      ]
     },
     "execution_count": 27,
     "metadata": {},
     "output_type": "execute_result"
    }
   ],
   "source": [
    "## Align:\n",
    "from rdkit.Chem import AllChem\n",
    "\n",
    "AllChem.AlignMol(mol1, mol2, atomMap=list(atom_mapping.items()))\n",
    "\n",
    "atom_mapping"
   ]
  },
  {
   "cell_type": "code",
   "execution_count": 28,
   "metadata": {},
   "outputs": [
    {
     "data": {
      "image/png": "[encoded data removed]",
      "text/plain": [
       "<rdkit.Chem.rdchem.Mol at 0x1b42c234990>"
      ]
     },
     "execution_count": 28,
     "metadata": {},
     "output_type": "execute_result"
    }
   ],
   "source": [
    "mol1"
   ]
  },
  {
   "cell_type": "code",
   "execution_count": 29,
   "metadata": {},
   "outputs": [
    {
     "data": {
      "image/png": "[encoded data removed]",
      "text/plain": [
       "<rdkit.Chem.rdchem.Mol at 0x1b42c234bc0>"
      ]
     },
     "execution_count": 29,
     "metadata": {},
     "output_type": "execute_result"
    }
   ],
   "source": [
    "mol2"
   ]
  },
  {
   "cell_type": "code",
   "execution_count": 34,
   "metadata": {},
   "outputs": [],
   "source": [
    "Chem.MolToPDBFile(mol1,\"mol1.pdb\")\n",
    "Chem.MolToPDBFile(mol2,\"mol2.pdb\")"
   ]
  },
  {
   "cell_type": "markdown",
   "metadata": {},
   "source": [
    "## COORDINATE Generation"
   ]
  },
  {
   "cell_type": "code",
   "execution_count": 30,
   "metadata": {},
   "outputs": [],
   "source": [
    "conf2 = mol2.GetConformer()\n",
    "for ind, pos in enumerate(conf2.GetPositions()):\n",
    "    cmol2.POSITION[ind].xp= pos[0]/10\n",
    "    cmol2.POSITION[ind].yp= pos[1]/10\n",
    "    cmol2.POSITION[ind].zp= pos[2]/10\n",
    "    \n",
    "conf1 = mol1.GetConformer()\n",
    "for ind, pos in enumerate(conf1.GetPositions()):\n",
    "    cmol1.POSITION[ind].xp= pos[0]/10\n",
    "    cmol1.POSITION[ind].yp= pos[1]/10\n",
    "    cmol1.POSITION[ind].zp= pos[2]/10\n"
   ]
  },
  {
   "cell_type": "code",
   "execution_count": 31,
   "metadata": {},
   "outputs": [
    {
     "data": {
      "text/plain": [
       "'fung.g96'"
      ]
     },
     "execution_count": 31,
     "metadata": {},
     "output_type": "execute_result"
    }
   ],
   "source": [
    "import copy\n",
    "cmol_comb = copy.deepcopy(cmol1)\n",
    "for pos in cmol2.POSITION:\n",
    "    if(pos.atomID in mol2Match or \n",
    "       any([np.sqrt((pos.xp-pos2.xp)**2+(pos.yp-pos2.yp)**2+(pos.zp-pos2.zp)**2) <0.9 for pos2 in cmol_comb.POSITION])):#check distance\n",
    "        continue\n",
    "    else:\n",
    "        pos = copy.deepcopy(pos)\n",
    "        pos.resID=2\n",
    "        pos.atomID += len(cmol1.POSITION)\n",
    "        cmol_comb.POSITION.append(pos)\n",
    "\n",
    "#clean cmol_comb\n",
    "present_atoms = []\n",
    "for pos in cmol_comb.POSITION:\n",
    "    pos.resID=1\n",
    "    pos.resName=cmol1.POSITION[0].resName[:2]+cmol2.POSITION[0].resName[2:4]\n",
    "    present_atoms.append(pos.atomID)\n",
    "cmol_comb.write(\"fung.g96\")"
   ]
  },
  {
   "cell_type": "code",
   "execution_count": 32,
   "metadata": {},
   "outputs": [
    {
     "data": {
      "text/plain": [
       "POSITION\n",
       "# \t \n",
       "    1 F378  C5         1   -0.455285422    0.076238643   -0.017195234\n",
       "    1 F378  O1         2   -0.330448885    0.144150737   -0.009344336\n",
       "    1 F378  C4         3   -0.216276538    0.067940752   -0.002473866\n",
       "    1 F378  C3         4   -0.095195130    0.138570402    0.000966375\n",
       "    1 F378  H4         5   -0.097970720    0.247147426   -0.001906944\n",
       "    1 F378  C2         6    0.026235650    0.070971241    0.005822188\n",
       "    1 F378  H3         7    0.119103310    0.127777896    0.008033927\n",
       "    1 F378  C1         8    0.030740639   -0.069696477    0.008057880\n",
       "    1 F378  N1         9    0.153462954   -0.137729298    0.020284845\n",
       "    1 F378  H1        10    0.151355782   -0.231711023   -0.018021879\n",
       "    1 F378  H2        11    0.231911666   -0.087062181   -0.019587737\n",
       "    1 F378  C7        12   -0.090832090   -0.139372834    0.004881908\n",
       "    1 F378  H9        13   -0.090261575   -0.248134783    0.007160711\n",
       "    1 F378  C6        14   -0.213292545   -0.071896786    0.000182986\n",
       "    1 F378  H8        15   -0.304932517   -0.129955070   -0.002156057\n",
       "END"
      ]
     },
     "execution_count": 32,
     "metadata": {},
     "output_type": "execute_result"
    }
   ],
   "source": [
    "cmol_comb.POSITION"
   ]
  },
  {
   "cell_type": "code",
   "execution_count": 33,
   "metadata": {},
   "outputs": [
    {
     "data": {
      "application/3dmoljs_load.v0": "<div id=\"3dmolviewer_16324756280069711\"  style=\"position: relative; width: 400px; height: 400px\">\n        <p id=\"3dmolwarning_16324756280069711\" style=\"background-color:#ffcccc;color:black\">You appear to be running in JupyterLab (or JavaScript failed to load for some other reason).  You need to install the 3dmol extension: <br>\n        <tt>jupyter labextension install jupyterlab_3dmol</tt></p>\n        </div>\n<script>\n\nvar loadScriptAsync = function(uri){\n  return new Promise((resolve, reject) => {\n    var tag = document.createElement('script');\n    tag.src = uri;\n    tag.async = true;\n    tag.onload = () => {\n      resolve();\n    };\n  var firstScriptTag = document.getElementsByTagName('script')[0];\n  firstScriptTag.parentNode.insertBefore(tag, firstScriptTag);\n});\n};\n\nif(typeof $3Dmolpromise === 'undefined') {\n$3Dmolpromise = null;\n  $3Dmolpromise = loadScriptAsync('https://3dmol.org/build/3Dmol.js');\n}\n\nvar viewer_16324756280069711 = null;\nvar warn = document.getElementById(\"3dmolwarning_16324756280069711\");\nif(warn) {\n    warn.parentNode.removeChild(warn);\n}\n$3Dmolpromise.then(function() {\nviewer_16324756280069711 = $3Dmol.createViewer($(\"#3dmolviewer_16324756280069711\"),{backgroundColor:\"white\"});\nviewer_16324756280069711.zoomTo();\n\tviewer_16324756280069711.addModel(\"15\\n# \\t >>> Generated with python lib function_libs utilities. (riniker group)\\t >>> line_seperator: '\\\\n'\\t field_seperator: '\\\\t'\\t comments_char: '#'# exported wit PyGromosTools\\nC  \\t-4.552854220    0.762386430   -0.171952340\\nO  \\t-3.304488850    1.441507370   -0.093443360\\nC  \\t-2.162765380    0.679407520   -0.024738660\\nC  \\t-0.951951300    1.385704020    0.009663750\\nH  \\t-0.979707200    2.471474260   -0.019069440\\nC  \\t 0.262356500    0.709712410    0.058221880\\nH  \\t 1.191033100    1.277778960    0.080339270\\nC  \\t 0.307406390   -0.696964770    0.080578800\\nN  \\t 1.534629540   -1.377292980    0.202848450\\nH  \\t 1.513557820   -2.317110230   -0.180218790\\nH  \\t 2.319116660   -0.870621810   -0.195877370\\nC  \\t-0.908320900   -1.393728340    0.048819080\\nH  \\t-0.902615750   -2.481347830    0.071607110\\nC  \\t-2.132925450   -0.718967860    0.001829860\\nH  \\t-3.049325170   -1.299550700   -0.021560570\\n\");\n\tviewer_16324756280069711.setStyle({\"model\": -1},{\"stick\": {}});\n\tviewer_16324756280069711.zoomTo();\nviewer_16324756280069711.render();\n});\n</script>",
      "text/html": [
       "<div id=\"3dmolviewer_16324756280069711\"  style=\"position: relative; width: 400px; height: 400px\">\n",
       "        <p id=\"3dmolwarning_16324756280069711\" style=\"background-color:#ffcccc;color:black\">You appear to be running in JupyterLab (or JavaScript failed to load for some other reason).  You need to install the 3dmol extension: <br>\n",
       "        <tt>jupyter labextension install jupyterlab_3dmol</tt></p>\n",
       "        </div>\n",
       "<script>\n",
       "\n",
       "var loadScriptAsync = function(uri){\n",
       "  return new Promise((resolve, reject) => {\n",
       "    var tag = document.createElement('script');\n",
       "    tag.src = uri;\n",
       "    tag.async = true;\n",
       "    tag.onload = () => {\n",
       "      resolve();\n",
       "    };\n",
       "  var firstScriptTag = document.getElementsByTagName('script')[0];\n",
       "  firstScriptTag.parentNode.insertBefore(tag, firstScriptTag);\n",
       "});\n",
       "};\n",
       "\n",
       "if(typeof $3Dmolpromise === 'undefined') {\n",
       "$3Dmolpromise = null;\n",
       "  $3Dmolpromise = loadScriptAsync('https://3dmol.org/build/3Dmol.js');\n",
       "}\n",
       "\n",
       "var viewer_16324756280069711 = null;\n",
       "var warn = document.getElementById(\"3dmolwarning_16324756280069711\");\n",
       "if(warn) {\n",
       "    warn.parentNode.removeChild(warn);\n",
       "}\n",
       "$3Dmolpromise.then(function() {\n",
       "viewer_16324756280069711 = $3Dmol.createViewer($(\"#3dmolviewer_16324756280069711\"),{backgroundColor:\"white\"});\n",
       "viewer_16324756280069711.zoomTo();\n",
       "\tviewer_16324756280069711.addModel(\"15\\n# \\t >>> Generated with python lib function_libs utilities. (riniker group)\\t >>> line_seperator: '\\\\n'\\t field_seperator: '\\\\t'\\t comments_char: '#'# exported wit PyGromosTools\\nC  \\t-4.552854220    0.762386430   -0.171952340\\nO  \\t-3.304488850    1.441507370   -0.093443360\\nC  \\t-2.162765380    0.679407520   -0.024738660\\nC  \\t-0.951951300    1.385704020    0.009663750\\nH  \\t-0.979707200    2.471474260   -0.019069440\\nC  \\t 0.262356500    0.709712410    0.058221880\\nH  \\t 1.191033100    1.277778960    0.080339270\\nC  \\t 0.307406390   -0.696964770    0.080578800\\nN  \\t 1.534629540   -1.377292980    0.202848450\\nH  \\t 1.513557820   -2.317110230   -0.180218790\\nH  \\t 2.319116660   -0.870621810   -0.195877370\\nC  \\t-0.908320900   -1.393728340    0.048819080\\nH  \\t-0.902615750   -2.481347830    0.071607110\\nC  \\t-2.132925450   -0.718967860    0.001829860\\nH  \\t-3.049325170   -1.299550700   -0.021560570\\n\");\n",
       "\tviewer_16324756280069711.setStyle({\"model\": -1},{\"stick\": {}});\n",
       "\tviewer_16324756280069711.zoomTo();\n",
       "viewer_16324756280069711.render();\n",
       "});\n",
       "</script>"
      ]
     },
     "metadata": {},
     "output_type": "display_data"
    },
    {
     "data": {
      "text/plain": [
       "<py3Dmol.view at 0x1b42d5792c8>"
      ]
     },
     "execution_count": 33,
     "metadata": {},
     "output_type": "execute_result"
    }
   ],
   "source": [
    "cmol_comb.visualize()"
   ]
  },
  {
   "cell_type": "markdown",
   "metadata": {},
   "source": [
    "## Topology"
   ]
  },
  {
   "cell_type": "code",
   "execution_count": 19,
   "metadata": {},
   "outputs": [],
   "source": [
    "com_top = top2\n",
    "com_top += top1\n",
    "red_com_top = copy.deepcopy(com_top)"
   ]
  },
  {
   "cell_type": "code",
   "execution_count": 20,
   "metadata": {},
   "outputs": [],
   "source": [
    "#BONDS\n",
    "bonds =[]\n",
    "for bond in com_top.BOND:\n",
    "    if(bond.IB in present_atoms and bond.JB in present_atoms):\n",
    "        bonds.append(bond)\n",
    "red_com_top.BOND.content = bonds\n",
    "red_com_top.BOND.NBON = len(bonds)\n",
    "\n",
    "#BondAngles\n",
    "angles =[]\n",
    "for angle in com_top.BONDANGLE:\n",
    "    if(angle.IT in present_atoms and angle.JT in present_atoms and angle.KT in present_atoms):\n",
    "        angles.append(angle)\n",
    "\n",
    "red_com_top.BONDANGLE.content = angles\n",
    "red_com_top.BONDANGLE.NTHE = len(angles)\n",
    "\n",
    "#BondAnglesH\n",
    "anglesH =[]\n",
    "for angleH in com_top.BONDANGLEH:\n",
    "    if(angleH.IT in present_atoms and angleH.JT in present_atoms and angleH.KT in present_atoms):\n",
    "        anglesH.append(angle)\n",
    "\n",
    "red_com_top.BONDANGLEH.content = anglesH\n",
    "red_com_top.BONDANGLEH.NTHEH = len(anglesH)\n",
    "\n",
    "#Dihedrals\n",
    "dihedrals =[]\n",
    "for dih in com_top.DIHEDRAL:\n",
    "    if(dih.IP in present_atoms and dih.JP in present_atoms and dih.KP in present_atoms and dih.LP in present_atoms):\n",
    "        dihedrals.append(dih)\n",
    "\n",
    "red_com_top.DIHEDRAL.content = dihedrals\n",
    "red_com_top.DIHEDRAL.NPHI = len(dihedrals)\n",
    "\n",
    "#DihedralsH\n",
    "dihedralsH =[]\n",
    "for dihh in com_top.DIHEDRALH:\n",
    "    if(dihh.IPH in present_atoms and dihh.JPH in present_atoms and dihh.KPH in present_atoms and dihh.LPH in present_atoms):\n",
    "        dihedralsH.append(dihh)\n",
    "\n",
    "red_com_top.DIHEDRALH.content = dihedralsH\n",
    "red_com_top.DIHEDRALH.NPHIH = len(dihedralsH)\n",
    "\n",
    "#Impropers\n",
    "impdihedrals =[]\n",
    "for imp in com_top.IMPDIHEDRAL:\n",
    "    if(imp.IQ in present_atoms and imp.JQ in present_atoms and imp.KQ in present_atoms and imp.LQ in present_atoms):\n",
    "        impdihedrals.append(dihh)\n",
    "\n",
    "red_com_top.IMPDIHEDRAL.content = impdihedrals\n",
    "red_com_top.IMPDIHEDRAL.NQHI = len(impdihedrals)\n",
    "\n",
    "#ImpropersH\n",
    "impdihedralsH =[]\n",
    "for impH in com_top.IMPDIHEDRALH:\n",
    "    if(impH.IQH in present_atoms and impH.JQH in present_atoms and impH.KQH in present_atoms and impH.LQH in present_atoms):\n",
    "        impdihedralsH.append(dihh)\n",
    "\n",
    "red_com_top.IMPDIHEDRALH.content = impdihedralsH\n",
    "red_com_top.IMPDIHEDRALH.NQHIH = len(impdihedralsH)\n",
    "\n",
    "#Mass, VDW, Charge\n",
    "sol =[]\n",
    "for atm in com_top.SOLUTEATOM:\n",
    "    if(atm.ATNM in present_atoms):\n",
    "        sol.append(atm)\n",
    "\n",
    "red_com_top.SOLUTEATOM.content = sol \n",
    "red_com_top.SOLUTEATOM.NRP = len(sol)\n",
    "\n",
    "\"\"\"\n",
    "#crossDIHEDRAL\n",
    "crds =[]\n",
    "for crd in com_top.CROSSDIHEDRAL:\n",
    "    print(vars(crd))\n",
    "    if(crd.ATNM in present_atoms):\n",
    "        crds.append(atm)\n",
    "\n",
    "red_com_top.CROSSDIHEDRAL.content = crds \n",
    "\n",
    "#crossDIHEDRALH\n",
    "crdsH =[]\n",
    "for crdH in com_top.CROSSDIHEDRALH:\n",
    "    print(vars(crdH))\n",
    "    if(crdH.ATNM in present_atoms):\n",
    "        crdsH.append(atm)\n",
    "\n",
    "red_com_top.CROSSDIHEDRALH.content = crdsH\n",
    "\"\"\"\n",
    "\n",
    "##resname meshing\n",
    "molA_Name = com_top.RESNAME.content[1][0]\n",
    "molB_Name = com_top.RESNAME.content[2][0]\n",
    "\n",
    "red_com_top.RESNAME.content = [['1'], [molA_Name[:2]+molB_Name[:2]]]\n",
    "\n",
    "\n",
    "pass"
   ]
  },
  {
   "cell_type": "markdown",
   "metadata": {},
   "source": [
    "### Build PTP"
   ]
  },
  {
   "cell_type": "code",
   "execution_count": 21,
   "metadata": {},
   "outputs": [],
   "source": [
    "ptp_file = ptp.Ptp()"
   ]
  },
  {
   "cell_type": "code",
   "execution_count": 22,
   "metadata": {},
   "outputs": [],
   "source": [
    "from pygromos.files.blocks.topology_blocks import PERTPROPERDIH, atom_lam_pertubation_state_dihedral"
   ]
  },
  {
   "cell_type": "code",
   "execution_count": 23,
   "metadata": {},
   "outputs": [],
   "source": [
    "pertproperdih =PERTPROPERDIH()"
   ]
  },
  {
   "cell_type": "code",
   "execution_count": null,
   "metadata": {},
   "outputs": [],
   "source": []
  },
  {
   "cell_type": "code",
   "execution_count": null,
   "metadata": {},
   "outputs": [],
   "source": []
  },
  {
   "cell_type": "code",
   "execution_count": null,
   "metadata": {},
   "outputs": [],
   "source": []
  },
  {
   "cell_type": "code",
   "execution_count": null,
   "metadata": {},
   "outputs": [],
   "source": []
  },
  {
   "cell_type": "code",
   "execution_count": 24,
   "metadata": {},
   "outputs": [
    {
     "ename": "SyntaxError",
     "evalue": "invalid syntax (Temp/ipykernel_7584/1245646628.py, line 1)",
     "output_type": "error",
     "traceback": [
      "\u001B[1;36m  File \u001B[1;32m\"C:\\Users\\benja\\AppData\\Local\\Temp/ipykernel_7584/1245646628.py\"\u001B[1;36m, line \u001B[1;32m1\u001B[0m\n\u001B[1;33m    for\u001B[0m\n\u001B[1;37m        ^\u001B[0m\n\u001B[1;31mSyntaxError\u001B[0m\u001B[1;31m:\u001B[0m invalid syntax\n"
     ]
    }
   ],
   "source": [
    "for \n",
    "pertproperdih.content.append()"
   ]
  },
  {
   "cell_type": "code",
   "execution_count": null,
   "metadata": {},
   "outputs": [],
   "source": []
  }
 ],
 "metadata": {
  "kernelspec": {
   "display_name": "PyCharm (PyGromosTools)",
   "language": "python",
   "name": "pycharm-8751cf47"
  },
  "language_info": {
   "codemirror_mode": {
    "name": "ipython",
    "version": 3
   },
   "file_extension": ".py",
   "mimetype": "text/x-python",
   "name": "python",
   "nbconvert_exporter": "python",
   "pygments_lexer": "ipython3",
   "version": "3.7.11"
  }
 },
 "nbformat": 4,
 "nbformat_minor": 1
}