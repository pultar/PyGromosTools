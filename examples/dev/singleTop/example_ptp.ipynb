{
 "cells": [
  {
   "cell_type": "code",
   "execution_count": 75,
   "metadata": {
    "pycharm": {
     "is_executing": true
    }
   },
   "outputs": [],
   "source": [
    "from pygromos.files.topology import top\n",
    "from pygromos.files.topology import ptp\n",
    "from pygromos.files.coord import cnf\n",
    "\n",
    "import copy\n",
    "import numpy as np\n",
    "\n",
    "from rdkit import Chem\n",
    "from rdkit.Chem import AllChem"
   ]
  },
  {
   "cell_type": "code",
   "execution_count": 48,
   "metadata": {
    "pycharm": {
     "is_executing": true,
     "name": "#%%\n"
    }
   },
   "outputs": [],
   "source": [
    "in_top1_path = \"F313.top\"\n",
    "in_top2_path = \"G078.top\"\n",
    "out_ptp_path = \"test.ptp\"\n",
    "\n",
    "in_coord2_path = \"G078_unitedatom_optimised_geometry.g96\"\n",
    "in_coord1_path = \"F313_unitedatom_optimised_geometry.g96\""
   ]
  },
  {
   "cell_type": "markdown",
   "metadata": {},
   "source": [
    "## COORD"
   ]
  },
  {
   "cell_type": "code",
   "execution_count": 49,
   "metadata": {},
   "outputs": [],
   "source": [
    "cmol1 = cnf.Cnf(in_coord1_path)\n",
    "cmol2 = cnf.Cnf(in_coord2_path)"
   ]
  },
  {
   "cell_type": "code",
   "execution_count": 50,
   "metadata": {
    "scrolled": false
   },
   "outputs": [
    {
     "data": {
      "application/3dmoljs_load.v0": "<div id=\"3dmolviewer_16324861368789363\"  style=\"position: relative; width: 400px; height: 400px\">\n        <p id=\"3dmolwarning_16324861368789363\" style=\"background-color:#ffcccc;color:black\">You appear to be running in JupyterLab (or JavaScript failed to load for some other reason).  You need to install the 3dmol extension: <br>\n        <tt>jupyter labextension install jupyterlab_3dmol</tt></p>\n        </div>\n<script>\n\nvar loadScriptAsync = function(uri){\n  return new Promise((resolve, reject) => {\n    var tag = document.createElement('script');\n    tag.src = uri;\n    tag.async = true;\n    tag.onload = () => {\n      resolve();\n    };\n  var firstScriptTag = document.getElementsByTagName('script')[0];\n  firstScriptTag.parentNode.insertBefore(tag, firstScriptTag);\n});\n};\n\nif(typeof $3Dmolpromise === 'undefined') {\n$3Dmolpromise = null;\n  $3Dmolpromise = loadScriptAsync('https://3dmol.org/build/3Dmol.js');\n}\n\nvar viewer_16324861368789363 = null;\nvar warn = document.getElementById(\"3dmolwarning_16324861368789363\");\nif(warn) {\n    warn.parentNode.removeChild(warn);\n}\n$3Dmolpromise.then(function() {\nviewer_16324861368789363 = $3Dmol.createViewer($(\"#3dmolviewer_16324861368789363\"),{backgroundColor:\"white\"});\nviewer_16324861368789363.zoomTo();\n\tviewer_16324861368789363.addModel(\"18\\n# # exported wit PyGromosTools\\nC  \\t-1.052943270    2.944561280   -0.009586130\\nC  \\t-1.020274490    1.434246510    0.000758140\\nC  \\t-2.192480480    0.707846580    0.007200050\\nH  \\t-3.145809440    1.232113840    0.005144630\\nC  \\t-2.192471020   -0.707865840    0.007199640\\nH  \\t-3.145787540   -1.232158320    0.005073740\\nC  \\t-1.020259350   -1.434249810    0.000732810\\nC  \\t-1.052921390   -2.944570080   -0.009635030\\nC  \\t 0.224557140   -0.719300880    0.001961960\\nC  \\t 0.224560110    0.719320150    0.001897750\\nC  \\t 1.475424350    1.397157890    0.002062840\\nH  \\t 1.489052100    2.482778890    0.005024440\\nC  \\t 2.669300520    0.706613610   -0.000295470\\nH  \\t 3.611580380    1.248666720    0.002729340\\nC  \\t 2.669305690   -0.706611360   -0.000197900\\nH  \\t 3.611594460   -1.248644100    0.002868280\\nC  \\t 1.475421730   -1.397140600    0.002129010\\nH  \\t 1.489016030   -2.482760500    0.005129060\\n\");\n\tviewer_16324861368789363.setStyle({\"model\": -1},{\"stick\": {}});\n\tviewer_16324861368789363.zoomTo();\nviewer_16324861368789363.render();\n});\n</script>",
      "text/html": [
       "<div id=\"3dmolviewer_16324861368789363\"  style=\"position: relative; width: 400px; height: 400px\">\n",
       "        <p id=\"3dmolwarning_16324861368789363\" style=\"background-color:#ffcccc;color:black\">You appear to be running in JupyterLab (or JavaScript failed to load for some other reason).  You need to install the 3dmol extension: <br>\n",
       "        <tt>jupyter labextension install jupyterlab_3dmol</tt></p>\n",
       "        </div>\n",
       "<script>\n",
       "\n",
       "var loadScriptAsync = function(uri){\n",
       "  return new Promise((resolve, reject) => {\n",
       "    var tag = document.createElement('script');\n",
       "    tag.src = uri;\n",
       "    tag.async = true;\n",
       "    tag.onload = () => {\n",
       "      resolve();\n",
       "    };\n",
       "  var firstScriptTag = document.getElementsByTagName('script')[0];\n",
       "  firstScriptTag.parentNode.insertBefore(tag, firstScriptTag);\n",
       "});\n",
       "};\n",
       "\n",
       "if(typeof $3Dmolpromise === 'undefined') {\n",
       "$3Dmolpromise = null;\n",
       "  $3Dmolpromise = loadScriptAsync('https://3dmol.org/build/3Dmol.js');\n",
       "}\n",
       "\n",
       "var viewer_16324861368789363 = null;\n",
       "var warn = document.getElementById(\"3dmolwarning_16324861368789363\");\n",
       "if(warn) {\n",
       "    warn.parentNode.removeChild(warn);\n",
       "}\n",
       "$3Dmolpromise.then(function() {\n",
       "viewer_16324861368789363 = $3Dmol.createViewer($(\"#3dmolviewer_16324861368789363\"),{backgroundColor:\"white\"});\n",
       "viewer_16324861368789363.zoomTo();\n",
       "\tviewer_16324861368789363.addModel(\"18\\n# # exported wit PyGromosTools\\nC  \\t-1.052943270    2.944561280   -0.009586130\\nC  \\t-1.020274490    1.434246510    0.000758140\\nC  \\t-2.192480480    0.707846580    0.007200050\\nH  \\t-3.145809440    1.232113840    0.005144630\\nC  \\t-2.192471020   -0.707865840    0.007199640\\nH  \\t-3.145787540   -1.232158320    0.005073740\\nC  \\t-1.020259350   -1.434249810    0.000732810\\nC  \\t-1.052921390   -2.944570080   -0.009635030\\nC  \\t 0.224557140   -0.719300880    0.001961960\\nC  \\t 0.224560110    0.719320150    0.001897750\\nC  \\t 1.475424350    1.397157890    0.002062840\\nH  \\t 1.489052100    2.482778890    0.005024440\\nC  \\t 2.669300520    0.706613610   -0.000295470\\nH  \\t 3.611580380    1.248666720    0.002729340\\nC  \\t 2.669305690   -0.706611360   -0.000197900\\nH  \\t 3.611594460   -1.248644100    0.002868280\\nC  \\t 1.475421730   -1.397140600    0.002129010\\nH  \\t 1.489016030   -2.482760500    0.005129060\\n\");\n",
       "\tviewer_16324861368789363.setStyle({\"model\": -1},{\"stick\": {}});\n",
       "\tviewer_16324861368789363.zoomTo();\n",
       "viewer_16324861368789363.render();\n",
       "});\n",
       "</script>"
      ]
     },
     "metadata": {},
     "output_type": "display_data"
    },
    {
     "data": {
      "text/plain": [
       "<py3Dmol.view at 0x26dd3f1be88>"
      ]
     },
     "execution_count": 50,
     "metadata": {},
     "output_type": "execute_result"
    }
   ],
   "source": [
    "cmol2.visualize()"
   ]
  },
  {
   "cell_type": "code",
   "execution_count": 51,
   "metadata": {
    "scrolled": false
   },
   "outputs": [
    {
     "data": {
      "application/3dmoljs_load.v0": "<div id=\"3dmolviewer_16324861374998665\"  style=\"position: relative; width: 400px; height: 400px\">\n        <p id=\"3dmolwarning_16324861374998665\" style=\"background-color:#ffcccc;color:black\">You appear to be running in JupyterLab (or JavaScript failed to load for some other reason).  You need to install the 3dmol extension: <br>\n        <tt>jupyter labextension install jupyterlab_3dmol</tt></p>\n        </div>\n<script>\n\nvar loadScriptAsync = function(uri){\n  return new Promise((resolve, reject) => {\n    var tag = document.createElement('script');\n    tag.src = uri;\n    tag.async = true;\n    tag.onload = () => {\n      resolve();\n    };\n  var firstScriptTag = document.getElementsByTagName('script')[0];\n  firstScriptTag.parentNode.insertBefore(tag, firstScriptTag);\n});\n};\n\nif(typeof $3Dmolpromise === 'undefined') {\n$3Dmolpromise = null;\n  $3Dmolpromise = loadScriptAsync('https://3dmol.org/build/3Dmol.js');\n}\n\nvar viewer_16324861374998665 = null;\nvar warn = document.getElementById(\"3dmolwarning_16324861374998665\");\nif(warn) {\n    warn.parentNode.removeChild(warn);\n}\n$3Dmolpromise.then(function() {\nviewer_16324861374998665 = $3Dmol.createViewer($(\"#3dmolviewer_16324861374998665\"),{backgroundColor:\"white\"});\nviewer_16324861374998665.zoomTo();\n\tviewer_16324861374998665.addModel(\"15\\n# # exported wit PyGromosTools\\nC  \\t-3.213826700    0.573621610    0.026109160\\nO  \\t-2.309295940   -0.524320090   -0.007744980\\nC  \\t-0.963037660   -0.245675160   -0.015446840\\nC  \\t-0.105232380   -1.354955960   -0.006810080\\nH  \\t-0.538742570   -2.351362120    0.003626380\\nC  \\t 1.274717690   -1.184403330    0.007801720\\nH  \\t 1.922586340   -2.058523960    0.017780170\\nC  \\t 1.845344720    0.102759460    0.009377820\\nN  \\t 3.242373470    0.273014680   -0.049256000\\nH  \\t 3.556713000    1.153364100    0.346839610\\nH  \\t 3.759766180   -0.490093180    0.376209760\\nC  \\t 0.979273630    1.204608670   -0.002417820\\nH  \\t 1.392572850    2.211253610   -0.007942340\\nC  \\t-0.409941710    1.039251950   -0.019354200\\nH  \\t-1.042047540    1.920615250   -0.026750300\\n\");\n\tviewer_16324861374998665.setStyle({\"model\": -1},{\"stick\": {}});\n\tviewer_16324861374998665.zoomTo();\nviewer_16324861374998665.render();\n});\n</script>",
      "text/html": [
       "<div id=\"3dmolviewer_16324861374998665\"  style=\"position: relative; width: 400px; height: 400px\">\n",
       "        <p id=\"3dmolwarning_16324861374998665\" style=\"background-color:#ffcccc;color:black\">You appear to be running in JupyterLab (or JavaScript failed to load for some other reason).  You need to install the 3dmol extension: <br>\n",
       "        <tt>jupyter labextension install jupyterlab_3dmol</tt></p>\n",
       "        </div>\n",
       "<script>\n",
       "\n",
       "var loadScriptAsync = function(uri){\n",
       "  return new Promise((resolve, reject) => {\n",
       "    var tag = document.createElement('script');\n",
       "    tag.src = uri;\n",
       "    tag.async = true;\n",
       "    tag.onload = () => {\n",
       "      resolve();\n",
       "    };\n",
       "  var firstScriptTag = document.getElementsByTagName('script')[0];\n",
       "  firstScriptTag.parentNode.insertBefore(tag, firstScriptTag);\n",
       "});\n",
       "};\n",
       "\n",
       "if(typeof $3Dmolpromise === 'undefined') {\n",
       "$3Dmolpromise = null;\n",
       "  $3Dmolpromise = loadScriptAsync('https://3dmol.org/build/3Dmol.js');\n",
       "}\n",
       "\n",
       "var viewer_16324861374998665 = null;\n",
       "var warn = document.getElementById(\"3dmolwarning_16324861374998665\");\n",
       "if(warn) {\n",
       "    warn.parentNode.removeChild(warn);\n",
       "}\n",
       "$3Dmolpromise.then(function() {\n",
       "viewer_16324861374998665 = $3Dmol.createViewer($(\"#3dmolviewer_16324861374998665\"),{backgroundColor:\"white\"});\n",
       "viewer_16324861374998665.zoomTo();\n",
       "\tviewer_16324861374998665.addModel(\"15\\n# # exported wit PyGromosTools\\nC  \\t-3.213826700    0.573621610    0.026109160\\nO  \\t-2.309295940   -0.524320090   -0.007744980\\nC  \\t-0.963037660   -0.245675160   -0.015446840\\nC  \\t-0.105232380   -1.354955960   -0.006810080\\nH  \\t-0.538742570   -2.351362120    0.003626380\\nC  \\t 1.274717690   -1.184403330    0.007801720\\nH  \\t 1.922586340   -2.058523960    0.017780170\\nC  \\t 1.845344720    0.102759460    0.009377820\\nN  \\t 3.242373470    0.273014680   -0.049256000\\nH  \\t 3.556713000    1.153364100    0.346839610\\nH  \\t 3.759766180   -0.490093180    0.376209760\\nC  \\t 0.979273630    1.204608670   -0.002417820\\nH  \\t 1.392572850    2.211253610   -0.007942340\\nC  \\t-0.409941710    1.039251950   -0.019354200\\nH  \\t-1.042047540    1.920615250   -0.026750300\\n\");\n",
       "\tviewer_16324861374998665.setStyle({\"model\": -1},{\"stick\": {}});\n",
       "\tviewer_16324861374998665.zoomTo();\n",
       "viewer_16324861374998665.render();\n",
       "});\n",
       "</script>"
      ]
     },
     "metadata": {},
     "output_type": "display_data"
    },
    {
     "data": {
      "text/plain": [
       "<py3Dmol.view at 0x26dd298ac48>"
      ]
     },
     "execution_count": 51,
     "metadata": {},
     "output_type": "execute_result"
    }
   ],
   "source": [
    " cmol1.visualize()"
   ]
  },
  {
   "cell_type": "markdown",
   "metadata": {},
   "source": [
    "### Atom Matching"
   ]
  },
  {
   "cell_type": "code",
   "execution_count": 52,
   "metadata": {},
   "outputs": [
    {
     "data": {
      "text/plain": [
       "(10,\n",
       " {2: 1, 1: 0, 3: 9, 5: 8, 7: 6, 11: 4, 13: 2, 14: 3, 12: 5, 8: 7},\n",
       " '[#6&R]1(-&!@[#8,#6;!R])-&@[#6&R]-&@[#6&R]-&@[#6&R](-&@[#6&R](-&@[#6&R]-&@1-&!@[#1&!R])-&!@[#1&!R])-&!@[#7,#6;!R]')"
      ]
     },
     "execution_count": 52,
     "metadata": {},
     "output_type": "execute_result"
    }
   ],
   "source": [
    "from rdkit.Chem import rdFMCS\n",
    "\n",
    "def find_atom_mapping(cnfA:cnf.Cnf, cnfB:cnf.Cnf)->(dict,str):\n",
    "    \n",
    "    mol1 = Chem.MolFromPDBBlock(cnfA.get_pdb(rdkit_ready=True), removeHs=False)\n",
    "    mol2 = Chem.MolFromPDBBlock(cnfB.get_pdb(rdkit_ready=True), removeHs=False)\n",
    "\n",
    "\n",
    "    #CompareElements\n",
    "    mcs = rdFMCS.FindMCS([mol1, mol2],\n",
    "                         atomCompare=rdFMCS.AtomCompare.CompareAnyHeavyAtom,\n",
    "                         bondCompare=rdFMCS.BondCompare.CompareOrderExact,\n",
    "                         ringMatchesRingOnly=True, completeRingsOnly=True)\n",
    "    #                    ringCompare=rdFMCS.RingCompare.StrictRingFusion)\n",
    "    smartsString = mcs.smartsString\n",
    "\n",
    "    ##MCS Match\n",
    "    patt = Chem.MolFromSmarts(smartsString)  # smartsString\n",
    "    mol1Match = mol1.GetSubstructMatch(patt)\n",
    "    mol2Match = mol2.GetSubstructMatch(patt)\n",
    "\n",
    "    atom_mappingAB = dict(zip(mol1Match, mol2Match))\n",
    "    return atom_mappingAB, smartsString\n",
    "\n",
    "atom_mappingAB, smart = find_atom_mapping(cnfA=cmol1, cnfB=cmol2)\n",
    "len(atom_mappingAB), atom_mappingAB, smart"
   ]
  },
  {
   "cell_type": "markdown",
   "metadata": {},
   "source": [
    "## COORDINATE Generation\n",
    "### Coord Alignment"
   ]
  },
  {
   "cell_type": "code",
   "execution_count": 53,
   "metadata": {},
   "outputs": [],
   "source": [
    "def align_cnfs_with_MCS(cnfA:cnf.Cnf, cnfB:cnf.Cnf, atom_mappingAB:int)->(cnf.Cnf, cnf.Cnf):\n",
    "    \n",
    "    cnfA= copy.deepcopy(cnfA)\n",
    "    cnfB= copy.deepcopy(cnfB)\n",
    "    \n",
    "    mol1 = Chem.MolFromPDBBlock(cnfA.get_pdb(rdkit_ready=True), removeHs=False)\n",
    "    mol2 = Chem.MolFromPDBBlock(cnfB.get_pdb(rdkit_ready=True), removeHs=False)\n",
    "    \n",
    "    AllChem.AlignMol(mol1, mol2, atomMap=list(atom_mappingAB.items()))\n",
    "\n",
    "\n",
    "    conf2 = mol2.GetConformer()\n",
    "    for ind, pos in enumerate(conf2.GetPositions()):\n",
    "        cnfB.POSITION[ind].xp= pos[0]/10\n",
    "        cnfB.POSITION[ind].yp= pos[1]/10\n",
    "        cnfB.POSITION[ind].zp= pos[2]/10\n",
    "\n",
    "    conf1 = mol1.GetConformer()\n",
    "    for ind, pos in enumerate(conf1.GetPositions()):\n",
    "        cnfA.POSITION[ind].xp= pos[0]/10\n",
    "        cnfA.POSITION[ind].yp= pos[1]/10\n",
    "        cnfA.POSITION[ind].zp= pos[2]/10\n",
    "        \n",
    "    return cnfA, cnfB\n",
    "\n",
    "cmol1, cmol2 = align_cnfs_with_MCS(cnfA=cmol1, cnfB=cmol2, atom_mappingAB=atom_mappingAB)\n",
    "\n"
   ]
  },
  {
   "cell_type": "markdown",
   "metadata": {},
   "source": [
    "### State merging"
   ]
  },
  {
   "cell_type": "code",
   "execution_count": 109,
   "metadata": {},
   "outputs": [
    {
     "data": {
      "text/plain": [
       "(15, 18)"
      ]
     },
     "execution_count": 109,
     "metadata": {},
     "output_type": "execute_result"
    }
   ],
   "source": [
    "len(cmol1.POSITION), len(cmol2.POSITION)"
   ]
  },
  {
   "cell_type": "code",
   "execution_count": 112,
   "metadata": {},
   "outputs": [
    {
     "data": {
      "application/3dmoljs_load.v0": "<div id=\"3dmolviewer_16324887281085114\"  style=\"position: relative; width: 400px; height: 400px\">\n        <p id=\"3dmolwarning_16324887281085114\" style=\"background-color:#ffcccc;color:black\">You appear to be running in JupyterLab (or JavaScript failed to load for some other reason).  You need to install the 3dmol extension: <br>\n        <tt>jupyter labextension install jupyterlab_3dmol</tt></p>\n        </div>\n<script>\n\nvar loadScriptAsync = function(uri){\n  return new Promise((resolve, reject) => {\n    var tag = document.createElement('script');\n    tag.src = uri;\n    tag.async = true;\n    tag.onload = () => {\n      resolve();\n    };\n  var firstScriptTag = document.getElementsByTagName('script')[0];\n  firstScriptTag.parentNode.insertBefore(tag, firstScriptTag);\n});\n};\n\nif(typeof $3Dmolpromise === 'undefined') {\n$3Dmolpromise = null;\n  $3Dmolpromise = loadScriptAsync('https://3dmol.org/build/3Dmol.js');\n}\n\nvar viewer_16324887281085114 = null;\nvar warn = document.getElementById(\"3dmolwarning_16324887281085114\");\nif(warn) {\n    warn.parentNode.removeChild(warn);\n}\n$3Dmolpromise.then(function() {\nviewer_16324887281085114 = $3Dmol.createViewer($(\"#3dmolviewer_16324887281085114\"),{backgroundColor:\"white\"});\nviewer_16324887281085114.zoomTo();\n\tviewer_16324887281085114.addModel(\"21\\n# \\t >>> Generated with python lib function_libs utilities. (riniker group)\\t >>> line_seperator: '\\\\n'\\t field_seperator: '\\\\t'\\t comments_char: '#'\\t >>> Generated with python lib function_libs utilities. (riniker group)\\t >>> line_seperator: '\\\\n'\\t field_seperator: '\\\\t'\\t comments_char: '#'# exported wit PyGromosTools\\nC  \\t-2.137274170    3.543358760   -0.032406710\\nC  \\t-0.930191600    2.790017920    0.002439360\\nC  \\t-1.029393050    1.419183800    0.007117250\\nC  \\t 0.182505260    0.713945190    0.000046940\\nC  \\t 1.113049090    1.274755340   -0.008506110\\nC  \\t 0.193873840   -0.676537480   -0.017120130\\nC  \\t 1.146270960   -1.204252920   -0.026347840\\nC  \\t-1.007314520   -1.410294300   -0.021294260\\nC  \\t-0.992849270   -2.817614020    0.034517600\\nC  \\t-1.823305880   -3.244607790   -0.363551670\\nC  \\t-0.167826120   -3.230477360   -0.389744890\\nC  \\t-2.213326780   -0.696212000   -0.011200140\\nC  \\t-3.156397200   -1.238497440   -0.007639040\\nC  \\t-2.230835170    0.702534570    0.007969610\\nC  \\t-3.188071500    1.213473770    0.015162790\\nC  \\t 1.489000000    2.483000000    0.005000000\\nC  \\t 2.669000000    0.707000000   -0.000000000\\nC  \\t 3.612000000    1.249000000    0.003000000\\nC  \\t 2.669000000   -0.707000000   -0.000000000\\nC  \\t 3.612000000   -1.249000000    0.003000000\\nC  \\t 1.489000000   -2.483000000    0.005000000\\n\");\n\tviewer_16324887281085114.setStyle({\"model\": -1},{\"stick\": {}});\n\tviewer_16324887281085114.zoomTo();\nviewer_16324887281085114.render();\n});\n</script>",
      "text/html": [
       "<div id=\"3dmolviewer_16324887281085114\"  style=\"position: relative; width: 400px; height: 400px\">\n",
       "        <p id=\"3dmolwarning_16324887281085114\" style=\"background-color:#ffcccc;color:black\">You appear to be running in JupyterLab (or JavaScript failed to load for some other reason).  You need to install the 3dmol extension: <br>\n",
       "        <tt>jupyter labextension install jupyterlab_3dmol</tt></p>\n",
       "        </div>\n",
       "<script>\n",
       "\n",
       "var loadScriptAsync = function(uri){\n",
       "  return new Promise((resolve, reject) => {\n",
       "    var tag = document.createElement('script');\n",
       "    tag.src = uri;\n",
       "    tag.async = true;\n",
       "    tag.onload = () => {\n",
       "      resolve();\n",
       "    };\n",
       "  var firstScriptTag = document.getElementsByTagName('script')[0];\n",
       "  firstScriptTag.parentNode.insertBefore(tag, firstScriptTag);\n",
       "});\n",
       "};\n",
       "\n",
       "if(typeof $3Dmolpromise === 'undefined') {\n",
       "$3Dmolpromise = null;\n",
       "  $3Dmolpromise = loadScriptAsync('https://3dmol.org/build/3Dmol.js');\n",
       "}\n",
       "\n",
       "var viewer_16324887281085114 = null;\n",
       "var warn = document.getElementById(\"3dmolwarning_16324887281085114\");\n",
       "if(warn) {\n",
       "    warn.parentNode.removeChild(warn);\n",
       "}\n",
       "$3Dmolpromise.then(function() {\n",
       "viewer_16324887281085114 = $3Dmol.createViewer($(\"#3dmolviewer_16324887281085114\"),{backgroundColor:\"white\"});\n",
       "viewer_16324887281085114.zoomTo();\n",
       "\tviewer_16324887281085114.addModel(\"21\\n# \\t >>> Generated with python lib function_libs utilities. (riniker group)\\t >>> line_seperator: '\\\\n'\\t field_seperator: '\\\\t'\\t comments_char: '#'\\t >>> Generated with python lib function_libs utilities. (riniker group)\\t >>> line_seperator: '\\\\n'\\t field_seperator: '\\\\t'\\t comments_char: '#'# exported wit PyGromosTools\\nC  \\t-2.137274170    3.543358760   -0.032406710\\nC  \\t-0.930191600    2.790017920    0.002439360\\nC  \\t-1.029393050    1.419183800    0.007117250\\nC  \\t 0.182505260    0.713945190    0.000046940\\nC  \\t 1.113049090    1.274755340   -0.008506110\\nC  \\t 0.193873840   -0.676537480   -0.017120130\\nC  \\t 1.146270960   -1.204252920   -0.026347840\\nC  \\t-1.007314520   -1.410294300   -0.021294260\\nC  \\t-0.992849270   -2.817614020    0.034517600\\nC  \\t-1.823305880   -3.244607790   -0.363551670\\nC  \\t-0.167826120   -3.230477360   -0.389744890\\nC  \\t-2.213326780   -0.696212000   -0.011200140\\nC  \\t-3.156397200   -1.238497440   -0.007639040\\nC  \\t-2.230835170    0.702534570    0.007969610\\nC  \\t-3.188071500    1.213473770    0.015162790\\nC  \\t 1.489000000    2.483000000    0.005000000\\nC  \\t 2.669000000    0.707000000   -0.000000000\\nC  \\t 3.612000000    1.249000000    0.003000000\\nC  \\t 2.669000000   -0.707000000   -0.000000000\\nC  \\t 3.612000000   -1.249000000    0.003000000\\nC  \\t 1.489000000   -2.483000000    0.005000000\\n\");\n",
       "\tviewer_16324887281085114.setStyle({\"model\": -1},{\"stick\": {}});\n",
       "\tviewer_16324887281085114.zoomTo();\n",
       "viewer_16324887281085114.render();\n",
       "});\n",
       "</script>"
      ]
     },
     "metadata": {},
     "output_type": "display_data"
    },
    {
     "data": {
      "text/plain": [
       "<py3Dmol.view at 0x26dd275ac08>"
      ]
     },
     "execution_count": 112,
     "metadata": {},
     "output_type": "execute_result"
    }
   ],
   "source": [
    "eucldean_dist = lambda x,y: np.sqrt((x.xp-y.xp)**2+(x.yp-y.yp)**2+(x.zp-y.zp)**2)\n",
    "\n",
    "def merge_states(cnfA:cnf.Cnf, cnfB:cnf.Cnf, atomMatchingAB:dict, dist_tresh:float=0.09,_doNotChangeAtomType:bool=False)-> cnf.Cnf:#nm\n",
    "    \n",
    "    \n",
    "    natoms_in_a=len(cnfA.POSITION)\n",
    "    match_molA, match_molB = np.array(list(atom_mappingAB.items())).T\n",
    "\n",
    "    cmol_comb = copy.deepcopy(cnfA)    \n",
    "    \n",
    "    for pos in cnfB.POSITION:\n",
    "        #print(pos)\n",
    "        #print(pos.atomID in selected_b_match)\n",
    "        #print(any([eucldean_dist(pos, pos2) < dist_tresh for pos2 in cmol_comb.POSITION]), [eucldean_dist(pos, pos2) <dist_tresh for pos2 in cmol_comb.POSITION])\n",
    "        #print([eucldean_dist(pos, pos2)  for pos2 in selected_b_cnf.POSITION])\n",
    "\n",
    "        if(pos.atomID in match_molB or \n",
    "           any([eucldean_dist(pos, pos2) < dist_tresh for pos2 in cnfA.POSITION])):#check distance\n",
    "            continue\n",
    "        else:\n",
    "            #print('new')\n",
    "            pos = copy.deepcopy(pos)\n",
    "            pos.resID=2\n",
    "            pos.atomID += natoms_in_a\n",
    "            cmol_comb.POSITION.append(pos)\n",
    "\n",
    "    #clean cmol_comb\n",
    "    present_atoms = []\n",
    "    for ind, pos in enumerate(cmol_comb.POSITION):\n",
    "        pos.resID=1\n",
    "        if(not _doNotChangeAtomType): pos.atomType = \"C\"\n",
    "        pos.atomID = ind+1\n",
    "        pos.resName=cmol1.POSITION[0].resName[:2]+cmol2.POSITION[0].resName[2:4]\n",
    "        present_atoms.append(pos.atomID)\n",
    "    return cmol_comb\n",
    "\n",
    "cmol_comb = merge_states(cnfA=cmol1, cnfB=cmol2, atomMatchingAB=atom_mappingAB, dist_tresh=0.09)\n",
    "cmol_comb.write(\"fung.g96\")\n",
    "cmol_comb.visualize()"
   ]
  },
  {
   "cell_type": "code",
   "execution_count": 113,
   "metadata": {},
   "outputs": [
    {
     "data": {
      "text/plain": [
       "POSITION\n",
       "# \t \n",
       "    1 F378  C          1   -0.213727417    0.354335876   -0.003240671\n",
       "    1 F378  C          2   -0.093019160    0.279001792    0.000243936\n",
       "    1 F378  C          3   -0.102939305    0.141918380    0.000711725\n",
       "    1 F378  C          4    0.018250526    0.071394519    0.000004694\n",
       "    1 F378  C          5    0.111304909    0.127475534   -0.000850611\n",
       "    1 F378  C          6    0.019387384   -0.067653748   -0.001712013\n",
       "    1 F378  C          7    0.114627096   -0.120425292   -0.002634784\n",
       "    1 F378  C          8   -0.100731452   -0.141029430   -0.002129426\n",
       "    1 F378  C          9   -0.099284927   -0.281761402    0.003451760\n",
       "    1 F378  C         10   -0.182330588   -0.324460779   -0.036355167\n",
       "    1 F378  C         11   -0.016782612   -0.323047736   -0.038974489\n",
       "    1 F378  C         12   -0.221332678   -0.069621200   -0.001120014\n",
       "    1 F378  C         13   -0.315639720   -0.123849744   -0.000763904\n",
       "    1 F378  C         14   -0.223083517    0.070253457    0.000796961\n",
       "    1 F378  C         15   -0.318807150    0.121347377    0.001516279\n",
       "    1 F378  C         16    0.148900000    0.248300000    0.000500000\n",
       "    1 F378  C         17    0.266900000    0.070700000   -0.000000000\n",
       "    1 F378  C         18    0.361200000    0.124900000    0.000300000\n",
       "    1 F378  C         19    0.266900000   -0.070700000   -0.000000000\n",
       "    1 F378  C         20    0.361200000   -0.124900000    0.000300000\n",
       "    1 F378  C         21    0.148900000   -0.248300000    0.000500000\n",
       "END"
      ]
     },
     "execution_count": 113,
     "metadata": {},
     "output_type": "execute_result"
    }
   ],
   "source": [
    "cmol_comb.POSITION"
   ]
  },
  {
   "cell_type": "markdown",
   "metadata": {},
   "source": [
    "## Topology"
   ]
  },
  {
   "cell_type": "code",
   "execution_count": 14,
   "metadata": {},
   "outputs": [],
   "source": [
    "top1 = top.Top(in_top1_path)\n",
    "top2 = top.Top(in_top2_path)\n"
   ]
  },
  {
   "cell_type": "code",
   "execution_count": 15,
   "metadata": {},
   "outputs": [],
   "source": [
    "com_top = top2\n",
    "com_top += top1\n",
    "red_com_top = copy.deepcopy(com_top)"
   ]
  },
  {
   "cell_type": "code",
   "execution_count": 56,
   "metadata": {},
   "outputs": [],
   "source": [
    "#BONDS\n",
    "bonds =[]\n",
    "for bond in com_top.BOND:\n",
    "    if(bond.IB in present_atoms and bond.JB in present_atoms):\n",
    "        bonds.append(bond)\n",
    "red_com_top.BOND.content = bonds\n",
    "red_com_top.BOND.NBON = len(bonds)\n",
    "\n",
    "#BondAngles\n",
    "angles =[]\n",
    "for angle in com_top.BONDANGLE:\n",
    "    if(angle.IT in present_atoms and angle.JT in present_atoms and angle.KT in present_atoms):\n",
    "        angles.append(angle)\n",
    "\n",
    "red_com_top.BONDANGLE.content = angles\n",
    "red_com_top.BONDANGLE.NTHE = len(angles)\n",
    "\n",
    "#BondAnglesH\n",
    "anglesH =[]\n",
    "for angleH in com_top.BONDANGLEH:\n",
    "    if(angleH.IT in present_atoms and angleH.JT in present_atoms and angleH.KT in present_atoms):\n",
    "        anglesH.append(angle)\n",
    "\n",
    "red_com_top.BONDANGLEH.content = anglesH\n",
    "red_com_top.BONDANGLEH.NTHEH = len(anglesH)\n",
    "\n",
    "#Dihedrals\n",
    "dihedrals =[]\n",
    "for dih in com_top.DIHEDRAL:\n",
    "    if(dih.IP in present_atoms and dih.JP in present_atoms and dih.KP in present_atoms and dih.LP in present_atoms):\n",
    "        dihedrals.append(dih)\n",
    "\n",
    "red_com_top.DIHEDRAL.content = dihedrals\n",
    "red_com_top.DIHEDRAL.NPHI = len(dihedrals)\n",
    "\n",
    "#DihedralsH\n",
    "dihedralsH =[]\n",
    "for dihh in com_top.DIHEDRALH:\n",
    "    if(dihh.IPH in present_atoms and dihh.JPH in present_atoms and dihh.KPH in present_atoms and dihh.LPH in present_atoms):\n",
    "        dihedralsH.append(dihh)\n",
    "\n",
    "red_com_top.DIHEDRALH.content = dihedralsH\n",
    "red_com_top.DIHEDRALH.NPHIH = len(dihedralsH)\n",
    "\n",
    "#Impropers\n",
    "impdihedrals =[]\n",
    "for imp in com_top.IMPDIHEDRAL:\n",
    "    if(imp.IQ in present_atoms and imp.JQ in present_atoms and imp.KQ in present_atoms and imp.LQ in present_atoms):\n",
    "        impdihedrals.append(dihh)\n",
    "\n",
    "red_com_top.IMPDIHEDRAL.content = impdihedrals\n",
    "red_com_top.IMPDIHEDRAL.NQHI = len(impdihedrals)\n",
    "\n",
    "#ImpropersH\n",
    "impdihedralsH =[]\n",
    "for impH in com_top.IMPDIHEDRALH:\n",
    "    if(impH.IQH in present_atoms and impH.JQH in present_atoms and impH.KQH in present_atoms and impH.LQH in present_atoms):\n",
    "        impdihedralsH.append(dihh)\n",
    "\n",
    "red_com_top.IMPDIHEDRALH.content = impdihedralsH\n",
    "red_com_top.IMPDIHEDRALH.NQHIH = len(impdihedralsH)\n",
    "\n",
    "#Mass, VDW, Charge\n",
    "sol =[]\n",
    "for atm in com_top.SOLUTEATOM:\n",
    "    if(atm.ATNM in present_atoms):\n",
    "        sol.append(atm)\n",
    "\n",
    "red_com_top.SOLUTEATOM.content = sol \n",
    "red_com_top.SOLUTEATOM.NRP = len(sol)\n",
    "\n",
    "\"\"\"\n",
    "#crossDIHEDRAL\n",
    "crds =[]\n",
    "for crd in com_top.CROSSDIHEDRAL:\n",
    "    print(vars(crd))\n",
    "    if(crd.ATNM in present_atoms):\n",
    "        crds.append(atm)\n",
    "\n",
    "red_com_top.CROSSDIHEDRAL.content = crds \n",
    "\n",
    "#crossDIHEDRALH\n",
    "crdsH =[]\n",
    "for crdH in com_top.CROSSDIHEDRALH:\n",
    "    print(vars(crdH))\n",
    "    if(crdH.ATNM in present_atoms):\n",
    "        crdsH.append(atm)\n",
    "\n",
    "red_com_top.CROSSDIHEDRALH.content = crdsH\n",
    "\"\"\"\n",
    "\n",
    "##resname meshing\n",
    "molA_Name = com_top.RESNAME.content[1][0]\n",
    "molB_Name = com_top.RESNAME.content[2][0]\n",
    "\n",
    "red_com_top.RESNAME.content = [['1'], [molA_Name[:2]+molB_Name[:2]]]\n",
    "\n",
    "\n",
    "pass"
   ]
  },
  {
   "cell_type": "markdown",
   "metadata": {},
   "source": [
    "### Build PTP"
   ]
  },
  {
   "cell_type": "code",
   "execution_count": 21,
   "metadata": {},
   "outputs": [],
   "source": [
    "ptp_file = ptp.Ptp()"
   ]
  },
  {
   "cell_type": "code",
   "execution_count": 17,
   "metadata": {},
   "outputs": [],
   "source": [
    "from pygromos.files.blocks.pertubation_blocks import PERTPROPERDIH, atom_lam_pertubation_state_dihedral"
   ]
  },
  {
   "cell_type": "code",
   "execution_count": 23,
   "metadata": {},
   "outputs": [],
   "source": [
    "pertproperdih =PERTPROPERDIH()"
   ]
  },
  {
   "cell_type": "code",
   "execution_count": null,
   "metadata": {},
   "outputs": [],
   "source": []
  },
  {
   "cell_type": "code",
   "execution_count": null,
   "metadata": {},
   "outputs": [],
   "source": []
  },
  {
   "cell_type": "code",
   "execution_count": null,
   "metadata": {},
   "outputs": [],
   "source": []
  },
  {
   "cell_type": "code",
   "execution_count": null,
   "metadata": {},
   "outputs": [],
   "source": []
  },
  {
   "cell_type": "code",
   "execution_count": 24,
   "metadata": {},
   "outputs": [
    {
     "ename": "SyntaxError",
     "evalue": "invalid syntax (Temp/ipykernel_7584/1245646628.py, line 1)",
     "output_type": "error",
     "traceback": [
      "\u001b[1;36m  File \u001b[1;32m\"C:\\Users\\benja\\AppData\\Local\\Temp/ipykernel_7584/1245646628.py\"\u001b[1;36m, line \u001b[1;32m1\u001b[0m\n\u001b[1;33m    for\u001b[0m\n\u001b[1;37m        ^\u001b[0m\n\u001b[1;31mSyntaxError\u001b[0m\u001b[1;31m:\u001b[0m invalid syntax\n"
     ]
    }
   ],
   "source": [
    "for \n",
    "pertproperdih.content.append()"
   ]
  },
  {
   "cell_type": "markdown",
   "metadata": {},
   "source": [
    "## DONE"
   ]
  },
  {
   "cell_type": "markdown",
   "metadata": {},
   "source": [
    "#### Dual Topology Approach"
   ]
  },
  {
   "cell_type": "code",
   "execution_count": 114,
   "metadata": {
    "pycharm": {
     "name": "#%%\n"
    }
   },
   "outputs": [],
   "source": [
    "def generate_dual_topology_approach(cnfA, cnfB, topA, topB, eds:bool=False):\n",
    "    ##Atom Mapping\n",
    "    atom_mappingAB, smart = find_atom_mapping(cnfA=cnfA, cnfB=cnfB)\n",
    "    \n",
    "    ##Coordinates\n",
    "    cnfA, cnfB = align_cnfs_with_MCS(cnfA=cnfA, cnfB=cnfB, atom_mappingAB=atom_mappingAB)\n",
    "    cnf_comb = copy.deepcopy(cnfA)\n",
    "    #cnf_comb += cnfB # needs to be implemented\n",
    "    \n",
    "    for pos in cnfB.POSITION:\n",
    "        cnf_comb.POSITION.append(pos)\n",
    "    \n",
    "    cnf_comb.supress_atomPosition_singulrarities()\n",
    "\n",
    "\n",
    "    ##Top\n",
    "    nAtoms_top1 = len(top1.SOLUTEATOM)\n",
    "    top_comb = copy.deepcopy(top1)\n",
    "    top_comb += top2\n",
    "    \n",
    "    ### Pertubation\n",
    "    ptp_comb = ptp.Pertubation_topology()\n",
    "    \n",
    "    if(eds):\n",
    "        from pygromos.files.blocks.pertubation_blocks import MPERTATOM\n",
    "        from pygromos.files.blocks.pertubation_blocks import  atom_eds_pertubation_state, pertubation_eds_state\n",
    "\n",
    "        tops = [topA, topB]\n",
    "        dummyState = pertubation_eds_state(IAC=22, CHARGE=0)\n",
    "\n",
    "        numStates=len(tops)\n",
    "        IND = 1\n",
    "        atom_states = []\n",
    "        for top_ind, top in enumerate(tops):\n",
    "            for atom in top.SOLUTEATOM:        \n",
    "                states = {}\n",
    "                for ctop in range(ntops):\n",
    "                    if(ctop==top_ind):\n",
    "                        states.update({ctop+1:pertubation_eds_state(IAC=atom.IAC, CHARGE=atom.CG)})\n",
    "                    else:\n",
    "                        states.update({ctop+1:dummyState})\n",
    "\n",
    "                atom_ptp = atom_eds_pertubation_state(NR=IND, NAME=atom.PANM, STATES=states)\n",
    "                atom_states.append(atom_ptp)\n",
    "                IND+=1\n",
    "\n",
    "        ptp_comb.add_block(block=MPERTATOM(NJLA=len(atom_states), NPTB=numStates, STATEATOMS=atom_states))\n",
    "\n",
    "    else:\n",
    "        from pygromos.files.blocks.pertubation_blocks import PERTATOMPARAM\n",
    "        from pygromos.files.blocks.pertubation_blocks import  atom_lam_pertubation_state, pertubation_lam_state_nonbonded\n",
    "\n",
    "        tops = [topA, topB]\n",
    "        build_dummyState = lambda m: pertubation_lam_state_nonbonded(IAC=22, CHARGE=0, MASS=m)\n",
    "\n",
    "        numStates=len(tops)\n",
    "        IND = 1\n",
    "        atom_states = []\n",
    "        for top_ind, top in enumerate(tops):\n",
    "            for atom in top.SOLUTEATOM:        \n",
    "                states = {}\n",
    "                for ctop in range(ntops):\n",
    "                    if(ctop==top_ind):\n",
    "                        states.update({ctop+1:pertubation_lam_state_nonbonded(IAC=atom.IAC, CHARGE=atom.CG, MASS=atom.MASS)})\n",
    "                    else:\n",
    "                        states.update({ctop+1:build_dummyState(atom.MASS)})\n",
    "\n",
    "                atom_ptp = atom_lam_pertubation_state(NR=IND, RES=atom.MRES, NAME=atom.PANM, STATES=states,)\n",
    "                atom_states.append(atom_ptp)\n",
    "                IND+=1\n",
    "\n",
    "        ptp_comb.add_block(block=PERTATOMPARAM(NJLA=len(atom_states), STATEATOMS=atom_states))\n",
    "    \n",
    "    return cnf_comb, top_comb, ptp_comb"
   ]
  },
  {
   "cell_type": "code",
   "execution_count": 115,
   "metadata": {},
   "outputs": [],
   "source": [
    "cnf_file, top_file, ptp_file = generate_dual_topology_approach(cnfA=cmol1, cnfB=cmol2, topA=top1, topB=top2)"
   ]
  },
  {
   "cell_type": "code",
   "execution_count": 116,
   "metadata": {},
   "outputs": [
    {
     "data": {
      "application/3dmoljs_load.v0": "<div id=\"3dmolviewer_16324887363308873\"  style=\"position: relative; width: 400px; height: 400px\">\n        <p id=\"3dmolwarning_16324887363308873\" style=\"background-color:#ffcccc;color:black\">You appear to be running in JupyterLab (or JavaScript failed to load for some other reason).  You need to install the 3dmol extension: <br>\n        <tt>jupyter labextension install jupyterlab_3dmol</tt></p>\n        </div>\n<script>\n\nvar loadScriptAsync = function(uri){\n  return new Promise((resolve, reject) => {\n    var tag = document.createElement('script');\n    tag.src = uri;\n    tag.async = true;\n    tag.onload = () => {\n      resolve();\n    };\n  var firstScriptTag = document.getElementsByTagName('script')[0];\n  firstScriptTag.parentNode.insertBefore(tag, firstScriptTag);\n});\n};\n\nif(typeof $3Dmolpromise === 'undefined') {\n$3Dmolpromise = null;\n  $3Dmolpromise = loadScriptAsync('https://3dmol.org/build/3Dmol.js');\n}\n\nvar viewer_16324887363308873 = null;\nvar warn = document.getElementById(\"3dmolwarning_16324887363308873\");\nif(warn) {\n    warn.parentNode.removeChild(warn);\n}\n$3Dmolpromise.then(function() {\nviewer_16324887363308873 = $3Dmol.createViewer($(\"#3dmolviewer_16324887363308873\"),{backgroundColor:\"white\"});\nviewer_16324887363308873.zoomTo();\n\tviewer_16324887363308873.addModel(\"33\\n# \\t >>> Generated with python lib function_libs utilities. (riniker group)\\t >>> line_seperator: '\\\\n'\\t field_seperator: '\\\\t'\\t comments_char: '#'\\t >>> Generated with python lib function_libs utilities. (riniker group)\\t >>> line_seperator: '\\\\n'\\t field_seperator: '\\\\t'\\t comments_char: '#'\\t >>> Generated with python lib function_libs utilities. (riniker group)\\t >>> line_seperator: '\\\\n'\\t field_seperator: '\\\\t'\\t comments_char: '#'# exported wit PyGromosTools\\nC  \\t-2.137382240    3.542968690   -0.031491890\\nO  \\t-0.930340590    2.790024590    0.002323800\\nC  \\t-1.029269620    1.419017930    0.007152500\\nC  \\t 0.182766670    0.714079390   -0.000025960\\nH  \\t 1.112738540    1.275126780   -0.009020600\\nC  \\t 0.193838090   -0.676919840   -0.017208670\\nH  \\t 1.145865200   -1.203871320   -0.026345610\\nC  \\t-1.007122980   -1.409982300   -0.021219990\\nN  \\t-0.993046500   -2.817989820    0.034595890\\nH  \\t-1.823052220   -3.244981360   -0.364401260\\nH  \\t-0.168053840   -3.229894950   -0.390518130\\nC  \\t-2.213154510   -0.696048850   -0.011045790\\nH  \\t-3.156125780   -1.238098120   -0.008049770\\nC  \\t-2.231222190    0.702945770    0.008134450\\nH  \\t-3.188246590    1.212895260    0.015267540\\nC  \\t-1.052985000    2.944985000   -0.010015000\\nC  \\t-1.019984000    1.433984000    0.000984000\\nC  \\t-2.191983000    0.707983000    0.006983000\\nH  \\t-3.145982000    1.231982000    0.004982000\\nC  \\t-2.191981000   -0.708019000    0.006981000\\nH  \\t-3.145980000   -1.232020000    0.004980000\\nC  \\t-1.019979000   -1.434021000    0.000979000\\nC  \\t-1.052978000   -2.945022000   -0.010022000\\nC  \\t 0.225023000   -0.719023000    0.001977000\\nC  \\t 0.225024000    0.718976000    0.001976000\\nC  \\t 1.475025000    1.396975000    0.001975000\\nH  \\t 1.489026000    2.482974000    0.004974000\\nC  \\t 2.669027000    0.706973000   -0.000027000\\nH  \\t 3.612028000    1.248972000    0.002972000\\nC  \\t 2.669029000   -0.707029000   -0.000029000\\nH  \\t 3.612030000   -1.249030000    0.002970000\\nC  \\t 1.475031000   -1.397031000    0.001969000\\nH  \\t 1.489032000   -2.483032000    0.004968000\\n\");\n\tviewer_16324887363308873.setStyle({\"model\": -1},{\"stick\": {}});\n\tviewer_16324887363308873.zoomTo();\nviewer_16324887363308873.render();\n});\n</script>",
      "text/html": [
       "<div id=\"3dmolviewer_16324887363308873\"  style=\"position: relative; width: 400px; height: 400px\">\n",
       "        <p id=\"3dmolwarning_16324887363308873\" style=\"background-color:#ffcccc;color:black\">You appear to be running in JupyterLab (or JavaScript failed to load for some other reason).  You need to install the 3dmol extension: <br>\n",
       "        <tt>jupyter labextension install jupyterlab_3dmol</tt></p>\n",
       "        </div>\n",
       "<script>\n",
       "\n",
       "var loadScriptAsync = function(uri){\n",
       "  return new Promise((resolve, reject) => {\n",
       "    var tag = document.createElement('script');\n",
       "    tag.src = uri;\n",
       "    tag.async = true;\n",
       "    tag.onload = () => {\n",
       "      resolve();\n",
       "    };\n",
       "  var firstScriptTag = document.getElementsByTagName('script')[0];\n",
       "  firstScriptTag.parentNode.insertBefore(tag, firstScriptTag);\n",
       "});\n",
       "};\n",
       "\n",
       "if(typeof $3Dmolpromise === 'undefined') {\n",
       "$3Dmolpromise = null;\n",
       "  $3Dmolpromise = loadScriptAsync('https://3dmol.org/build/3Dmol.js');\n",
       "}\n",
       "\n",
       "var viewer_16324887363308873 = null;\n",
       "var warn = document.getElementById(\"3dmolwarning_16324887363308873\");\n",
       "if(warn) {\n",
       "    warn.parentNode.removeChild(warn);\n",
       "}\n",
       "$3Dmolpromise.then(function() {\n",
       "viewer_16324887363308873 = $3Dmol.createViewer($(\"#3dmolviewer_16324887363308873\"),{backgroundColor:\"white\"});\n",
       "viewer_16324887363308873.zoomTo();\n",
       "\tviewer_16324887363308873.addModel(\"33\\n# \\t >>> Generated with python lib function_libs utilities. (riniker group)\\t >>> line_seperator: '\\\\n'\\t field_seperator: '\\\\t'\\t comments_char: '#'\\t >>> Generated with python lib function_libs utilities. (riniker group)\\t >>> line_seperator: '\\\\n'\\t field_seperator: '\\\\t'\\t comments_char: '#'\\t >>> Generated with python lib function_libs utilities. (riniker group)\\t >>> line_seperator: '\\\\n'\\t field_seperator: '\\\\t'\\t comments_char: '#'# exported wit PyGromosTools\\nC  \\t-2.137382240    3.542968690   -0.031491890\\nO  \\t-0.930340590    2.790024590    0.002323800\\nC  \\t-1.029269620    1.419017930    0.007152500\\nC  \\t 0.182766670    0.714079390   -0.000025960\\nH  \\t 1.112738540    1.275126780   -0.009020600\\nC  \\t 0.193838090   -0.676919840   -0.017208670\\nH  \\t 1.145865200   -1.203871320   -0.026345610\\nC  \\t-1.007122980   -1.409982300   -0.021219990\\nN  \\t-0.993046500   -2.817989820    0.034595890\\nH  \\t-1.823052220   -3.244981360   -0.364401260\\nH  \\t-0.168053840   -3.229894950   -0.390518130\\nC  \\t-2.213154510   -0.696048850   -0.011045790\\nH  \\t-3.156125780   -1.238098120   -0.008049770\\nC  \\t-2.231222190    0.702945770    0.008134450\\nH  \\t-3.188246590    1.212895260    0.015267540\\nC  \\t-1.052985000    2.944985000   -0.010015000\\nC  \\t-1.019984000    1.433984000    0.000984000\\nC  \\t-2.191983000    0.707983000    0.006983000\\nH  \\t-3.145982000    1.231982000    0.004982000\\nC  \\t-2.191981000   -0.708019000    0.006981000\\nH  \\t-3.145980000   -1.232020000    0.004980000\\nC  \\t-1.019979000   -1.434021000    0.000979000\\nC  \\t-1.052978000   -2.945022000   -0.010022000\\nC  \\t 0.225023000   -0.719023000    0.001977000\\nC  \\t 0.225024000    0.718976000    0.001976000\\nC  \\t 1.475025000    1.396975000    0.001975000\\nH  \\t 1.489026000    2.482974000    0.004974000\\nC  \\t 2.669027000    0.706973000   -0.000027000\\nH  \\t 3.612028000    1.248972000    0.002972000\\nC  \\t 2.669029000   -0.707029000   -0.000029000\\nH  \\t 3.612030000   -1.249030000    0.002970000\\nC  \\t 1.475031000   -1.397031000    0.001969000\\nH  \\t 1.489032000   -2.483032000    0.004968000\\n\");\n",
       "\tviewer_16324887363308873.setStyle({\"model\": -1},{\"stick\": {}});\n",
       "\tviewer_16324887363308873.zoomTo();\n",
       "viewer_16324887363308873.render();\n",
       "});\n",
       "</script>"
      ]
     },
     "metadata": {},
     "output_type": "display_data"
    },
    {
     "data": {
      "text/plain": [
       "<py3Dmol.view at 0x26dd27a71c8>"
      ]
     },
     "execution_count": 116,
     "metadata": {},
     "output_type": "execute_result"
    }
   ],
   "source": [
    "cnf_file.visualize()"
   ]
  },
  {
   "cell_type": "code",
   "execution_count": 117,
   "metadata": {},
   "outputs": [
    {
     "data": {
      "text/plain": [
       "SOLUTEATOM\n",
       "#   NRP: number of solute atoms\n",
       " \t 33\n",
       "#  ATNM: atom number\n",
       "#  MRES: residue number\n",
       "#  PANM: atom name of solute atom\n",
       "#   IAC: integer (van der Waals) atom type code\n",
       "#  MASS: mass of solute atom\n",
       "#    CG: charge of solute atom\n",
       "#   CGC: charge group code (0 or 1)\n",
       "#   INE: number of excluded atoms\n",
       "# INE14: number of 1-4 interactions\n",
       "# ATNM MRES PANM IAC     MASS       CG  CGC INE\n",
       "#                                           INE14\n",
       "\t1\t1\tC5\t16\t15.035\t0.275\t1\t2\t2\t3\n",
       "\t\t\t\t\t\t\t\t\t\t2\t4\t14\n",
       "\t2\t1\tO1\t4\t15.9994\t-0.4\t1\t3\t3\t4\t14\n",
       "\t\t\t\t\t\t\t\t\t\t4\t5\t6\t12\t15\n",
       "\t3\t1\tC4\t64\t12.011\t0.269\t1\t7\t4\t5\t6\t8\t12\t14\n",
       "\t\t\t\t\t\t\t\t\t\t\t15\n",
       "\t\t\t\t\t\t\t\t\t\t2\t7\t13\n",
       "\t4\t1\tC3\t64\t12.011\t-0.214\t1\t6\t5\t6\t7\t8\t12\t14\n",
       "\t\t\t\t\t\t\t\t\t\t2\t9\t15\n",
       "\t5\t1\tH4\t20\t1.008\t0.144\t1\t1\t6\n",
       "\t\t\t\t\t\t\t\t\t\t3\t7\t8\t14\n",
       "\t6\t1\tC2\t64\t12.011\t-0.334\t1\t5\t7\t8\t9\t12\t14\n",
       "\t\t\t\t\t\t\t\t\t\t3\t10\t11\t13\n",
       "\t7\t1\tH3\t20\t1.008\t0.186\t1\t1\t8\n",
       "\t\t\t\t\t\t\t\t\t\t2\t9\t12\n",
       "\t8\t1\tC1\t64\t12.011\t0.462\t1\t6\t9\t10\t11\t12\t13\t14\n",
       "\t\t\t\t\t\t\t\t\t\t1\t15\n",
       "\t9\t1\tN1\t66\t14.0067\t-0.95\t1\t3\t10\t11\t12\n",
       "\t\t\t\t\t\t\t\t\t\t2\t13\t14\n",
       "\t10\t1\tH1\t59\t1.008\t0.39\t1\t1\t11\n",
       "\t\t\t\t\t\t\t\t\t\t1\t12\n",
       "\t11\t1\tH2\t59\t1.008\t0.39\t1\t0\n",
       "\t\t\t\t\t\t\t\t\t\t1\t12\n",
       "\t12\t1\tC7\t64\t12.011\t-0.334\t1\t3\t13\t14\t15\n",
       "\t\t\t\t\t\t\t\t\t\t0\n",
       "\t13\t1\tH9\t20\t1.008\t0.186\t1\t1\t14\n",
       "\t\t\t\t\t\t\t\t\t\t1\t15\n",
       "\t14\t1\tC6\t64\t12.011\t-0.214\t1\t1\t15\n",
       "\t\t\t\t\t\t\t\t\t\t0\n",
       "\t15\t1\tH8\t20\t1.008\t0.144\t1\t0\n",
       "\t\t\t\t\t\t\t\t\t\t0\n",
       "\t16\t2\tC12\t16\t15.035\t0.072\t1\t3\t17\t18\t25\n",
       "\t\t\t\t\t\t\t\t\t\t4\t19\t20\t24\t26\n",
       "\t17\t2\tC5\t64\t12.011\t-0.032\t1\t7\t18\t19\t20\t22\t24\t25\n",
       "\t\t\t\t\t\t\t\t\t\t\t26\n",
       "\t\t\t\t\t\t\t\t\t\t4\t21\t27\t28\t32\n",
       "\t18\t2\tC4\t64\t12.011\t-0.222\t1\t6\t19\t20\t21\t22\t24\t25\n",
       "\t\t\t\t\t\t\t\t\t\t2\t23\t26\n",
       "\t19\t2\tH5\t20\t1.008\t0.159\t1\t1\t20\n",
       "\t\t\t\t\t\t\t\t\t\t3\t21\t22\t25\n",
       "\t20\t2\tC3\t64\t12.011\t-0.222\t1\t5\t21\t22\t23\t24\t25\n",
       "\t\t\t\t\t\t\t\t\t\t1\t32\n",
       "\t21\t2\tH4\t20\t1.008\t0.159\t1\t1\t22\n",
       "\t\t\t\t\t\t\t\t\t\t2\t23\t24\n",
       "\t22\t2\tC2\t64\t12.011\t-0.032\t1\t4\t23\t24\t25\t32\n",
       "\t\t\t\t\t\t\t\t\t\t3\t26\t30\t33\n",
       "\t23\t2\tC1\t16\t15.035\t0.072\t1\t1\t24\n",
       "\t\t\t\t\t\t\t\t\t\t2\t25\t32\n",
       "\t24\t2\tC11\t64\t12.011\t0.081\t1\t6\t25\t26\t28\t30\t32\t33\n",
       "\t\t\t\t\t\t\t\t\t\t2\t27\t31\n",
       "\t25\t2\tC6\t64\t12.011\t0.081\t1\t5\t26\t27\t28\t30\t32\n",
       "\t\t\t\t\t\t\t\t\t\t2\t29\t33\n",
       "\t26\t2\tC7\t64\t12.011\t-0.201\t1\t5\t27\t28\t29\t30\t32\n",
       "\t\t\t\t\t\t\t\t\t\t1\t31\n",
       "\t27\t2\tH6\t20\t1.008\t0.143\t1\t1\t28\n",
       "\t\t\t\t\t\t\t\t\t\t2\t29\t30\n",
       "\t28\t2\tC8\t64\t12.011\t-0.131\t1\t4\t29\t30\t31\t32\n",
       "\t\t\t\t\t\t\t\t\t\t1\t33\n",
       "\t29\t2\tH7\t20\t1.008\t0.131\t1\t1\t30\n",
       "\t\t\t\t\t\t\t\t\t\t2\t31\t32\n",
       "\t30\t2\tC9\t64\t12.011\t-0.131\t1\t3\t31\t32\t33\n",
       "\t\t\t\t\t\t\t\t\t\t0\n",
       "\t31\t2\tH8\t20\t1.008\t0.131\t1\t1\t32\n",
       "\t\t\t\t\t\t\t\t\t\t1\t33\n",
       "\t32\t2\tC10\t64\t12.011\t-0.201\t1\t1\t33\n",
       "\t\t\t\t\t\t\t\t\t\t0\n",
       "\t33\t2\tH9\t20\t1.008\t0.143\t1\t0\n",
       "\t\t\t\t\t\t\t\t\t\t0\n",
       "END"
      ]
     },
     "execution_count": 117,
     "metadata": {},
     "output_type": "execute_result"
    }
   ],
   "source": [
    "top_file.SOLUTEATOM"
   ]
  },
  {
   "cell_type": "code",
   "execution_count": 118,
   "metadata": {},
   "outputs": [
    {
     "data": {
      "text/plain": [
       "PERTATOMPARAM\n",
       "# NJLA  \t NPTB =  \t 2 \t \n",
       " \t 33\n",
       "# state_identifiers\n",
       "#  \t state1 \t state2\n",
       "#    NR   RES  NAME  IAC1mass1   CHARGE1  IAC2mass2   CHARGE2    ALPHLJ     ALPHCRF   \n",
       "    1     1    C5    16 15.035    0.27500    22 15.035    0.00000    1.00000    1.00000\n",
       "    2     1    O1     4 15.9994   -0.40000    22 15.9994    0.00000    1.00000    1.00000\n",
       "    3     1    C4    64 12.011    0.26900    22 12.011    0.00000    1.00000    1.00000\n",
       "    4     1    C3    64 12.011   -0.21400    22 12.011    0.00000    1.00000    1.00000\n",
       "    5     1    H4    20 1.008    0.14400    22 1.008    0.00000    1.00000    1.00000\n",
       "    6     1    C2    64 12.011   -0.33400    22 12.011    0.00000    1.00000    1.00000\n",
       "    7     1    H3    20 1.008    0.18600    22 1.008    0.00000    1.00000    1.00000\n",
       "    8     1    C1    64 12.011    0.46200    22 12.011    0.00000    1.00000    1.00000\n",
       "    9     1    N1    66 14.0067   -0.95000    22 14.0067    0.00000    1.00000    1.00000\n",
       "   10     1    H1    59 1.008    0.39000    22 1.008    0.00000    1.00000    1.00000\n",
       "   11     1    H2    59 1.008    0.39000    22 1.008    0.00000    1.00000    1.00000\n",
       "   12     1    C7    64 12.011   -0.33400    22 12.011    0.00000    1.00000    1.00000\n",
       "   13     1    H9    20 1.008    0.18600    22 1.008    0.00000    1.00000    1.00000\n",
       "   14     1    C6    64 12.011   -0.21400    22 12.011    0.00000    1.00000    1.00000\n",
       "   15     1    H8    20 1.008    0.14400    22 1.008    0.00000    1.00000    1.00000\n",
       "   16     1   C12    22 15.035    0.00000    16 15.035    0.07200    1.00000    1.00000\n",
       "   17     1    C5    22 12.011    0.00000    64 12.011   -0.03200    1.00000    1.00000\n",
       "   18     1    C4    22 12.011    0.00000    64 12.011   -0.22200    1.00000    1.00000\n",
       "   19     1    H5    22 1.008    0.00000    20 1.008    0.15900    1.00000    1.00000\n",
       "   20     1    C3    22 12.011    0.00000    64 12.011   -0.22200    1.00000    1.00000\n",
       "   21     1    H4    22 1.008    0.00000    20 1.008    0.15900    1.00000    1.00000\n",
       "   22     1    C2    22 12.011    0.00000    64 12.011   -0.03200    1.00000    1.00000\n",
       "   23     1    C1    22 15.035    0.00000    16 15.035    0.07200    1.00000    1.00000\n",
       "   24     1   C11    22 12.011    0.00000    64 12.011    0.08100    1.00000    1.00000\n",
       "   25     1    C6    22 12.011    0.00000    64 12.011    0.08100    1.00000    1.00000\n",
       "   26     1    C7    22 12.011    0.00000    64 12.011   -0.20100    1.00000    1.00000\n",
       "   27     1    H6    22 1.008    0.00000    20 1.008    0.14300    1.00000    1.00000\n",
       "   28     1    C8    22 12.011    0.00000    64 12.011   -0.13100    1.00000    1.00000\n",
       "   29     1    H7    22 1.008    0.00000    20 1.008    0.13100    1.00000    1.00000\n",
       "   30     1    C9    22 12.011    0.00000    64 12.011   -0.13100    1.00000    1.00000\n",
       "   31     1    H8    22 1.008    0.00000    20 1.008    0.13100    1.00000    1.00000\n",
       "   32     1   C10    22 12.011    0.00000    64 12.011   -0.20100    1.00000    1.00000\n",
       "   33     1    H9    22 1.008    0.00000    20 1.008    0.14300    1.00000    1.00000\n",
       "END"
      ]
     },
     "execution_count": 118,
     "metadata": {},
     "output_type": "execute_result"
    }
   ],
   "source": [
    "ptp_file"
   ]
  },
  {
   "cell_type": "markdown",
   "metadata": {},
   "source": [
    "#### Hybrid Topology Approach"
   ]
  },
  {
   "cell_type": "code",
   "execution_count": 119,
   "metadata": {
    "pycharm": {
     "name": "#%%\n"
    }
   },
   "outputs": [],
   "source": [
    "def generate_hybrid_topology_approach(cnfA, cnfB, topA, topB):\n",
    "    ##Atom Mapping\n",
    "    atom_mappingAB, smart = find_atom_mapping(cnfA=cnfA, cnfB=cnfB)\n",
    "    \n",
    "    ##Coordinates\n",
    "    cnfA, cnfB = align_cnfs_with_MCS(cnfA=cnfA, cnfB=cnfB, atom_mappingAB=atom_mappingAB)\n",
    "    cnf_comb = merge_states(cnfA=cmol1, cnfB=cmol2, atomMatchingAB=atom_mappingAB, _doNotChangeAtomType=True, dist_tresh=0.0) #no distance collapsing\n",
    "    \n",
    "    ##Top\n",
    "    \n",
    "    \n",
    "    ### Pertubation\n",
    "    \n",
    "    \n",
    "    return cnf_comb\n",
    "    #return cnf_comb, top_comb, ptp_comb"
   ]
  },
  {
   "cell_type": "code",
   "execution_count": 120,
   "metadata": {},
   "outputs": [],
   "source": [
    "cnf_file= generate_hybrid_topology_approach(cnfA=cmol1, cnfB=cmol2, topA=top1, topB=top2)"
   ]
  },
  {
   "cell_type": "code",
   "execution_count": 121,
   "metadata": {},
   "outputs": [
    {
     "data": {
      "application/3dmoljs_load.v0": "<div id=\"3dmolviewer_16324887456412752\"  style=\"position: relative; width: 400px; height: 400px\">\n        <p id=\"3dmolwarning_16324887456412752\" style=\"background-color:#ffcccc;color:black\">You appear to be running in JupyterLab (or JavaScript failed to load for some other reason).  You need to install the 3dmol extension: <br>\n        <tt>jupyter labextension install jupyterlab_3dmol</tt></p>\n        </div>\n<script>\n\nvar loadScriptAsync = function(uri){\n  return new Promise((resolve, reject) => {\n    var tag = document.createElement('script');\n    tag.src = uri;\n    tag.async = true;\n    tag.onload = () => {\n      resolve();\n    };\n  var firstScriptTag = document.getElementsByTagName('script')[0];\n  firstScriptTag.parentNode.insertBefore(tag, firstScriptTag);\n});\n};\n\nif(typeof $3Dmolpromise === 'undefined') {\n$3Dmolpromise = null;\n  $3Dmolpromise = loadScriptAsync('https://3dmol.org/build/3Dmol.js');\n}\n\nvar viewer_16324887456412752 = null;\nvar warn = document.getElementById(\"3dmolwarning_16324887456412752\");\nif(warn) {\n    warn.parentNode.removeChild(warn);\n}\n$3Dmolpromise.then(function() {\nviewer_16324887456412752 = $3Dmol.createViewer($(\"#3dmolviewer_16324887456412752\"),{backgroundColor:\"white\"});\nviewer_16324887456412752.zoomTo();\n\tviewer_16324887456412752.addModel(\"24\\n# \\t >>> Generated with python lib function_libs utilities. (riniker group)\\t >>> line_seperator: '\\\\n'\\t field_seperator: '\\\\t'\\t comments_char: '#'\\t >>> Generated with python lib function_libs utilities. (riniker group)\\t >>> line_seperator: '\\\\n'\\t field_seperator: '\\\\t'\\t comments_char: '#'# exported wit PyGromosTools\\nC  \\t-2.137274170    3.543358760   -0.032406710\\nO  \\t-0.930191600    2.790017920    0.002439360\\nC  \\t-1.029393050    1.419183800    0.007117250\\nC  \\t 0.182505260    0.713945190    0.000046940\\nH  \\t 1.113049090    1.274755340   -0.008506110\\nC  \\t 0.193873840   -0.676537480   -0.017120130\\nH  \\t 1.146270960   -1.204252920   -0.026347840\\nC  \\t-1.007314520   -1.410294300   -0.021294260\\nN  \\t-0.992849270   -2.817614020    0.034517600\\nH  \\t-1.823305880   -3.244607790   -0.363551670\\nH  \\t-0.167826120   -3.230477360   -0.389744890\\nC  \\t-2.213326780   -0.696212000   -0.011200140\\nH  \\t-3.156397200   -1.238497440   -0.007639040\\nC  \\t-2.230835170    0.702534570    0.007969610\\nH  \\t-3.188071500    1.213473770    0.015162790\\nC  \\t 0.225000000    0.719000000    0.002000000\\nC  \\t 1.475000000    1.397000000    0.002000000\\nH  \\t 1.489000000    2.483000000    0.005000000\\nC  \\t 2.669000000    0.707000000   -0.000000000\\nH  \\t 3.612000000    1.249000000    0.003000000\\nC  \\t 2.669000000   -0.707000000   -0.000000000\\nH  \\t 3.612000000   -1.249000000    0.003000000\\nC  \\t 1.475000000   -1.397000000    0.002000000\\nH  \\t 1.489000000   -2.483000000    0.005000000\\n\");\n\tviewer_16324887456412752.setStyle({\"model\": -1},{\"stick\": {}});\n\tviewer_16324887456412752.zoomTo();\nviewer_16324887456412752.render();\n});\n</script>",
      "text/html": [
       "<div id=\"3dmolviewer_16324887456412752\"  style=\"position: relative; width: 400px; height: 400px\">\n",
       "        <p id=\"3dmolwarning_16324887456412752\" style=\"background-color:#ffcccc;color:black\">You appear to be running in JupyterLab (or JavaScript failed to load for some other reason).  You need to install the 3dmol extension: <br>\n",
       "        <tt>jupyter labextension install jupyterlab_3dmol</tt></p>\n",
       "        </div>\n",
       "<script>\n",
       "\n",
       "var loadScriptAsync = function(uri){\n",
       "  return new Promise((resolve, reject) => {\n",
       "    var tag = document.createElement('script');\n",
       "    tag.src = uri;\n",
       "    tag.async = true;\n",
       "    tag.onload = () => {\n",
       "      resolve();\n",
       "    };\n",
       "  var firstScriptTag = document.getElementsByTagName('script')[0];\n",
       "  firstScriptTag.parentNode.insertBefore(tag, firstScriptTag);\n",
       "});\n",
       "};\n",
       "\n",
       "if(typeof $3Dmolpromise === 'undefined') {\n",
       "$3Dmolpromise = null;\n",
       "  $3Dmolpromise = loadScriptAsync('https://3dmol.org/build/3Dmol.js');\n",
       "}\n",
       "\n",
       "var viewer_16324887456412752 = null;\n",
       "var warn = document.getElementById(\"3dmolwarning_16324887456412752\");\n",
       "if(warn) {\n",
       "    warn.parentNode.removeChild(warn);\n",
       "}\n",
       "$3Dmolpromise.then(function() {\n",
       "viewer_16324887456412752 = $3Dmol.createViewer($(\"#3dmolviewer_16324887456412752\"),{backgroundColor:\"white\"});\n",
       "viewer_16324887456412752.zoomTo();\n",
       "\tviewer_16324887456412752.addModel(\"24\\n# \\t >>> Generated with python lib function_libs utilities. (riniker group)\\t >>> line_seperator: '\\\\n'\\t field_seperator: '\\\\t'\\t comments_char: '#'\\t >>> Generated with python lib function_libs utilities. (riniker group)\\t >>> line_seperator: '\\\\n'\\t field_seperator: '\\\\t'\\t comments_char: '#'# exported wit PyGromosTools\\nC  \\t-2.137274170    3.543358760   -0.032406710\\nO  \\t-0.930191600    2.790017920    0.002439360\\nC  \\t-1.029393050    1.419183800    0.007117250\\nC  \\t 0.182505260    0.713945190    0.000046940\\nH  \\t 1.113049090    1.274755340   -0.008506110\\nC  \\t 0.193873840   -0.676537480   -0.017120130\\nH  \\t 1.146270960   -1.204252920   -0.026347840\\nC  \\t-1.007314520   -1.410294300   -0.021294260\\nN  \\t-0.992849270   -2.817614020    0.034517600\\nH  \\t-1.823305880   -3.244607790   -0.363551670\\nH  \\t-0.167826120   -3.230477360   -0.389744890\\nC  \\t-2.213326780   -0.696212000   -0.011200140\\nH  \\t-3.156397200   -1.238497440   -0.007639040\\nC  \\t-2.230835170    0.702534570    0.007969610\\nH  \\t-3.188071500    1.213473770    0.015162790\\nC  \\t 0.225000000    0.719000000    0.002000000\\nC  \\t 1.475000000    1.397000000    0.002000000\\nH  \\t 1.489000000    2.483000000    0.005000000\\nC  \\t 2.669000000    0.707000000   -0.000000000\\nH  \\t 3.612000000    1.249000000    0.003000000\\nC  \\t 2.669000000   -0.707000000   -0.000000000\\nH  \\t 3.612000000   -1.249000000    0.003000000\\nC  \\t 1.475000000   -1.397000000    0.002000000\\nH  \\t 1.489000000   -2.483000000    0.005000000\\n\");\n",
       "\tviewer_16324887456412752.setStyle({\"model\": -1},{\"stick\": {}});\n",
       "\tviewer_16324887456412752.zoomTo();\n",
       "viewer_16324887456412752.render();\n",
       "});\n",
       "</script>"
      ]
     },
     "metadata": {},
     "output_type": "display_data"
    },
    {
     "data": {
      "text/plain": [
       "<py3Dmol.view at 0x26dd3fa6a88>"
      ]
     },
     "execution_count": 121,
     "metadata": {},
     "output_type": "execute_result"
    }
   ],
   "source": [
    "cnf_file.visualize()"
   ]
  },
  {
   "cell_type": "code",
   "execution_count": 122,
   "metadata": {},
   "outputs": [
    {
     "data": {
      "text/plain": [
       "TITLE\n",
       "\t >>> Generated with python lib function_libs utilities. (riniker group)\t >>> line_seperator: '\\n'\t field_seperator: '\\t'\t comments_char: '#'\t >>> Generated with python lib function_libs utilities. (riniker group)\t >>> line_seperator: '\\n'\t field_seperator: '\\t'\t comments_char: '#'\n",
       "\t >>> Generated with python lib function_libs utilities. (riniker group)\n",
       "\t >>> line_seperator: '\\n'\t field_seperator: '\\t'\t comments_char: '#'\n",
       "END\n",
       "POSITION\n",
       "# \t \n",
       "    1 F378  C5         1   -0.213727417    0.354335876   -0.003240671\n",
       "    1 F378  O1         2   -0.093019160    0.279001792    0.000243936\n",
       "    1 F378  C4         3   -0.102939305    0.141918380    0.000711725\n",
       "    1 F378  C3         4    0.018250526    0.071394519    0.000004694\n",
       "    1 F378  H4         5    0.111304909    0.127475534   -0.000850611\n",
       "    1 F378  C2         6    0.019387384   -0.067653748   -0.001712013\n",
       "    1 F378  H3         7    0.114627096   -0.120425292   -0.002634784\n",
       "    1 F378  C1         8   -0.100731452   -0.141029430   -0.002129426\n",
       "    1 F378  N1         9   -0.099284927   -0.281761402    0.003451760\n",
       "    1 F378  H1        10   -0.182330588   -0.324460779   -0.036355167\n",
       "    1 F378  H2        11   -0.016782612   -0.323047736   -0.038974489\n",
       "    1 F378  C7        12   -0.221332678   -0.069621200   -0.001120014\n",
       "    1 F378  H9        13   -0.315639720   -0.123849744   -0.000763904\n",
       "    1 F378  C6        14   -0.223083517    0.070253457    0.000796961\n",
       "    1 F378  H8        15   -0.318807150    0.121347377    0.001516279\n",
       "    1 F378  C6        16    0.022500000    0.071900000    0.000200000\n",
       "    1 F378  C7        17    0.147500000    0.139700000    0.000200000\n",
       "    1 F378  H6        18    0.148900000    0.248300000    0.000500000\n",
       "    1 F378  C8        19    0.266900000    0.070700000   -0.000000000\n",
       "    1 F378  H7        20    0.361200000    0.124900000    0.000300000\n",
       "    1 F378  C9        21    0.266900000   -0.070700000   -0.000000000\n",
       "    1 F378  H8        22    0.361200000   -0.124900000    0.000300000\n",
       "    1 F378  C10       23    0.147500000   -0.139700000    0.000200000\n",
       "    1 F378  H9        24    0.148900000   -0.248300000    0.000500000\n",
       "END"
      ]
     },
     "execution_count": 122,
     "metadata": {},
     "output_type": "execute_result"
    }
   ],
   "source": [
    "cnf_file"
   ]
  },
  {
   "cell_type": "markdown",
   "metadata": {},
   "source": [
    "#### Single Topology Approach"
   ]
  },
  {
   "cell_type": "code",
   "execution_count": 123,
   "metadata": {
    "pycharm": {
     "name": "#%%\n"
    }
   },
   "outputs": [],
   "source": [
    "def generate_single_topology_approach(cnfA, cnfB, topA, topB):\n",
    "    ##Atom Mapping\n",
    "    atom_mappingAB, smart = find_atom_mapping(cnfA=cnfA, cnfB=cnfB)\n",
    "    \n",
    "    ##Coordinates\n",
    "    cnfA, cnfB = align_cnfs_with_MCS(cnfA=cnfA, cnfB=cnfB, atom_mappingAB=atom_mappingAB)\n",
    "    cnf_comb = merge_states(cnfA=cmol1, cnfB=cmol2, atomMatchingAB=atom_mappingAB, dist_tresh=0.09) #no distance collapsing\n",
    "    \n",
    "\n",
    "    return cnf_comb #, top_comb, ptp_comb"
   ]
  },
  {
   "cell_type": "code",
   "execution_count": null,
   "metadata": {},
   "outputs": [],
   "source": []
  },
  {
   "cell_type": "code",
   "execution_count": 124,
   "metadata": {},
   "outputs": [],
   "source": [
    "cnf_file= generate_single_topology_approach(cnfA=cmol1, cnfB=cmol2, topA=top1, topB=top2)"
   ]
  },
  {
   "cell_type": "code",
   "execution_count": 125,
   "metadata": {},
   "outputs": [
    {
     "data": {
      "application/3dmoljs_load.v0": "<div id=\"3dmolviewer_16324887504399068\"  style=\"position: relative; width: 400px; height: 400px\">\n        <p id=\"3dmolwarning_16324887504399068\" style=\"background-color:#ffcccc;color:black\">You appear to be running in JupyterLab (or JavaScript failed to load for some other reason).  You need to install the 3dmol extension: <br>\n        <tt>jupyter labextension install jupyterlab_3dmol</tt></p>\n        </div>\n<script>\n\nvar loadScriptAsync = function(uri){\n  return new Promise((resolve, reject) => {\n    var tag = document.createElement('script');\n    tag.src = uri;\n    tag.async = true;\n    tag.onload = () => {\n      resolve();\n    };\n  var firstScriptTag = document.getElementsByTagName('script')[0];\n  firstScriptTag.parentNode.insertBefore(tag, firstScriptTag);\n});\n};\n\nif(typeof $3Dmolpromise === 'undefined') {\n$3Dmolpromise = null;\n  $3Dmolpromise = loadScriptAsync('https://3dmol.org/build/3Dmol.js');\n}\n\nvar viewer_16324887504399068 = null;\nvar warn = document.getElementById(\"3dmolwarning_16324887504399068\");\nif(warn) {\n    warn.parentNode.removeChild(warn);\n}\n$3Dmolpromise.then(function() {\nviewer_16324887504399068 = $3Dmol.createViewer($(\"#3dmolviewer_16324887504399068\"),{backgroundColor:\"white\"});\nviewer_16324887504399068.zoomTo();\n\tviewer_16324887504399068.addModel(\"21\\n# \\t >>> Generated with python lib function_libs utilities. (riniker group)\\t >>> line_seperator: '\\\\n'\\t field_seperator: '\\\\t'\\t comments_char: '#'\\t >>> Generated with python lib function_libs utilities. (riniker group)\\t >>> line_seperator: '\\\\n'\\t field_seperator: '\\\\t'\\t comments_char: '#'# exported wit PyGromosTools\\nC  \\t-2.137274170    3.543358760   -0.032406710\\nC  \\t-0.930191600    2.790017920    0.002439360\\nC  \\t-1.029393050    1.419183800    0.007117250\\nC  \\t 0.182505260    0.713945190    0.000046940\\nC  \\t 1.113049090    1.274755340   -0.008506110\\nC  \\t 0.193873840   -0.676537480   -0.017120130\\nC  \\t 1.146270960   -1.204252920   -0.026347840\\nC  \\t-1.007314520   -1.410294300   -0.021294260\\nC  \\t-0.992849270   -2.817614020    0.034517600\\nC  \\t-1.823305880   -3.244607790   -0.363551670\\nC  \\t-0.167826120   -3.230477360   -0.389744890\\nC  \\t-2.213326780   -0.696212000   -0.011200140\\nC  \\t-3.156397200   -1.238497440   -0.007639040\\nC  \\t-2.230835170    0.702534570    0.007969610\\nC  \\t-3.188071500    1.213473770    0.015162790\\nC  \\t 1.489000000    2.483000000    0.005000000\\nC  \\t 2.669000000    0.707000000   -0.000000000\\nC  \\t 3.612000000    1.249000000    0.003000000\\nC  \\t 2.669000000   -0.707000000   -0.000000000\\nC  \\t 3.612000000   -1.249000000    0.003000000\\nC  \\t 1.489000000   -2.483000000    0.005000000\\n\");\n\tviewer_16324887504399068.setStyle({\"model\": -1},{\"stick\": {}});\n\tviewer_16324887504399068.zoomTo();\nviewer_16324887504399068.render();\n});\n</script>",
      "text/html": [
       "<div id=\"3dmolviewer_16324887504399068\"  style=\"position: relative; width: 400px; height: 400px\">\n",
       "        <p id=\"3dmolwarning_16324887504399068\" style=\"background-color:#ffcccc;color:black\">You appear to be running in JupyterLab (or JavaScript failed to load for some other reason).  You need to install the 3dmol extension: <br>\n",
       "        <tt>jupyter labextension install jupyterlab_3dmol</tt></p>\n",
       "        </div>\n",
       "<script>\n",
       "\n",
       "var loadScriptAsync = function(uri){\n",
       "  return new Promise((resolve, reject) => {\n",
       "    var tag = document.createElement('script');\n",
       "    tag.src = uri;\n",
       "    tag.async = true;\n",
       "    tag.onload = () => {\n",
       "      resolve();\n",
       "    };\n",
       "  var firstScriptTag = document.getElementsByTagName('script')[0];\n",
       "  firstScriptTag.parentNode.insertBefore(tag, firstScriptTag);\n",
       "});\n",
       "};\n",
       "\n",
       "if(typeof $3Dmolpromise === 'undefined') {\n",
       "$3Dmolpromise = null;\n",
       "  $3Dmolpromise = loadScriptAsync('https://3dmol.org/build/3Dmol.js');\n",
       "}\n",
       "\n",
       "var viewer_16324887504399068 = null;\n",
       "var warn = document.getElementById(\"3dmolwarning_16324887504399068\");\n",
       "if(warn) {\n",
       "    warn.parentNode.removeChild(warn);\n",
       "}\n",
       "$3Dmolpromise.then(function() {\n",
       "viewer_16324887504399068 = $3Dmol.createViewer($(\"#3dmolviewer_16324887504399068\"),{backgroundColor:\"white\"});\n",
       "viewer_16324887504399068.zoomTo();\n",
       "\tviewer_16324887504399068.addModel(\"21\\n# \\t >>> Generated with python lib function_libs utilities. (riniker group)\\t >>> line_seperator: '\\\\n'\\t field_seperator: '\\\\t'\\t comments_char: '#'\\t >>> Generated with python lib function_libs utilities. (riniker group)\\t >>> line_seperator: '\\\\n'\\t field_seperator: '\\\\t'\\t comments_char: '#'# exported wit PyGromosTools\\nC  \\t-2.137274170    3.543358760   -0.032406710\\nC  \\t-0.930191600    2.790017920    0.002439360\\nC  \\t-1.029393050    1.419183800    0.007117250\\nC  \\t 0.182505260    0.713945190    0.000046940\\nC  \\t 1.113049090    1.274755340   -0.008506110\\nC  \\t 0.193873840   -0.676537480   -0.017120130\\nC  \\t 1.146270960   -1.204252920   -0.026347840\\nC  \\t-1.007314520   -1.410294300   -0.021294260\\nC  \\t-0.992849270   -2.817614020    0.034517600\\nC  \\t-1.823305880   -3.244607790   -0.363551670\\nC  \\t-0.167826120   -3.230477360   -0.389744890\\nC  \\t-2.213326780   -0.696212000   -0.011200140\\nC  \\t-3.156397200   -1.238497440   -0.007639040\\nC  \\t-2.230835170    0.702534570    0.007969610\\nC  \\t-3.188071500    1.213473770    0.015162790\\nC  \\t 1.489000000    2.483000000    0.005000000\\nC  \\t 2.669000000    0.707000000   -0.000000000\\nC  \\t 3.612000000    1.249000000    0.003000000\\nC  \\t 2.669000000   -0.707000000   -0.000000000\\nC  \\t 3.612000000   -1.249000000    0.003000000\\nC  \\t 1.489000000   -2.483000000    0.005000000\\n\");\n",
       "\tviewer_16324887504399068.setStyle({\"model\": -1},{\"stick\": {}});\n",
       "\tviewer_16324887504399068.zoomTo();\n",
       "viewer_16324887504399068.render();\n",
       "});\n",
       "</script>"
      ]
     },
     "metadata": {},
     "output_type": "display_data"
    },
    {
     "data": {
      "text/plain": [
       "<py3Dmol.view at 0x26dd3f32988>"
      ]
     },
     "execution_count": 125,
     "metadata": {},
     "output_type": "execute_result"
    }
   ],
   "source": [
    "cnf_file.visualize()"
   ]
  },
  {
   "cell_type": "code",
   "execution_count": 126,
   "metadata": {},
   "outputs": [
    {
     "data": {
      "text/plain": [
       "TITLE\n",
       "\t >>> Generated with python lib function_libs utilities. (riniker group)\t >>> line_seperator: '\\n'\t field_seperator: '\\t'\t comments_char: '#'\t >>> Generated with python lib function_libs utilities. (riniker group)\t >>> line_seperator: '\\n'\t field_seperator: '\\t'\t comments_char: '#'\n",
       "\t >>> Generated with python lib function_libs utilities. (riniker group)\n",
       "\t >>> line_seperator: '\\n'\t field_seperator: '\\t'\t comments_char: '#'\n",
       "END\n",
       "POSITION\n",
       "# \t \n",
       "    1 F378  C          1   -0.213727417    0.354335876   -0.003240671\n",
       "    1 F378  C          2   -0.093019160    0.279001792    0.000243936\n",
       "    1 F378  C          3   -0.102939305    0.141918380    0.000711725\n",
       "    1 F378  C          4    0.018250526    0.071394519    0.000004694\n",
       "    1 F378  C          5    0.111304909    0.127475534   -0.000850611\n",
       "    1 F378  C          6    0.019387384   -0.067653748   -0.001712013\n",
       "    1 F378  C          7    0.114627096   -0.120425292   -0.002634784\n",
       "    1 F378  C          8   -0.100731452   -0.141029430   -0.002129426\n",
       "    1 F378  C          9   -0.099284927   -0.281761402    0.003451760\n",
       "    1 F378  C         10   -0.182330588   -0.324460779   -0.036355167\n",
       "    1 F378  C         11   -0.016782612   -0.323047736   -0.038974489\n",
       "    1 F378  C         12   -0.221332678   -0.069621200   -0.001120014\n",
       "    1 F378  C         13   -0.315639720   -0.123849744   -0.000763904\n",
       "    1 F378  C         14   -0.223083517    0.070253457    0.000796961\n",
       "    1 F378  C         15   -0.318807150    0.121347377    0.001516279\n",
       "    1 F378  C         16    0.148900000    0.248300000    0.000500000\n",
       "    1 F378  C         17    0.266900000    0.070700000   -0.000000000\n",
       "    1 F378  C         18    0.361200000    0.124900000    0.000300000\n",
       "    1 F378  C         19    0.266900000   -0.070700000   -0.000000000\n",
       "    1 F378  C         20    0.361200000   -0.124900000    0.000300000\n",
       "    1 F378  C         21    0.148900000   -0.248300000    0.000500000\n",
       "END"
      ]
     },
     "execution_count": 126,
     "metadata": {},
     "output_type": "execute_result"
    }
   ],
   "source": [
    "cnf_file"
   ]
  },
  {
   "cell_type": "code",
   "execution_count": null,
   "metadata": {},
   "outputs": [],
   "source": []
  }
 ],
 "metadata": {
  "kernelspec": {
   "display_name": "PyCharm (PyGromosTools)",
   "language": "python",
   "name": "pycharm-8751cf47"
  },
  "language_info": {
   "codemirror_mode": {
    "name": "ipython",
    "version": 3
   },
   "file_extension": ".py",
   "mimetype": "text/x-python",
   "name": "python",
   "nbconvert_exporter": "python",
   "pygments_lexer": "ipython3",
   "version": "3.7.11"
  }
 },
 "nbformat": 4,
 "nbformat_minor": 1
}
